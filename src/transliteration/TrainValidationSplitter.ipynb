{
 "cells": [
  {
   "cell_type": "code",
   "execution_count": 1,
   "metadata": {},
   "outputs": [],
   "source": [
    "import json"
   ]
  },
  {
   "cell_type": "code",
   "execution_count": 2,
   "metadata": {},
   "outputs": [],
   "source": [
    "with open('/home/shubajit/Documents/BLUE-Benchmark/data/transliteration/transliteration_bn_en.txt') as fip:\n",
    "    data = fip.read().splitlines()"
   ]
  },
  {
   "cell_type": "code",
   "execution_count": 6,
   "metadata": {},
   "outputs": [
    {
     "name": "stdout",
     "output_type": "stream",
     "text": [
      "#Unique Bengali words:  3942\n",
      "#Unique English words:  3908\n"
     ]
    }
   ],
   "source": [
    "from collections import defaultdict\n",
    "bengali_list = []\n",
    "english_list = []\n",
    "data_dict = defaultdict(list)\n",
    "for line in data:\n",
    "    jdata = json.loads(line)\n",
    "    for word in jdata['words']:\n",
    "        normalized_word = word['en'].strip()\n",
    "        key = word['bn'].strip()\n",
    "        data_dict[key].append(normalized_word)\n",
    "        bengali_list.append(word['bn'])\n",
    "        english_list.append(normalized_word)\n",
    "        \n",
    "bengali_list = list(set(bengali_list))\n",
    "english_list = list(set(english_list))\n",
    "print('#Unique Bengali words: ',len(bengali_len_list))\n",
    "print('#Unique English words: ',len(english_len_list))"
   ]
  },
  {
   "cell_type": "code",
   "execution_count": 8,
   "metadata": {},
   "outputs": [],
   "source": [
    "import random\n",
    "random.shuffle(bengali_list)"
   ]
  },
  {
   "cell_type": "code",
   "execution_count": 13,
   "metadata": {},
   "outputs": [],
   "source": [
    "with open('validation.tsv','w') as fop:\n",
    "    for key in bengali_list[:500]:\n",
    "        for val in data_dict[key]:\n",
    "            fop.write(key+\"\\t\"+val+\"\\n\")"
   ]
  },
  {
   "cell_type": "code",
   "execution_count": 14,
   "metadata": {},
   "outputs": [],
   "source": [
    "with open('train.tsv','w') as fop:\n",
    "    for key in bengali_list[500:]:\n",
    "        for val in data_dict[key]:\n",
    "            fop.write(key+\"\\t\"+val+\"\\n\")"
   ]
  }
 ],
 "metadata": {
  "kernelspec": {
   "display_name": "Python 3",
   "language": "python",
   "name": "python3"
  },
  "language_info": {
   "codemirror_mode": {
    "name": "ipython",
    "version": 3
   },
   "file_extension": ".py",
   "mimetype": "text/x-python",
   "name": "python",
   "nbconvert_exporter": "python",
   "pygments_lexer": "ipython3",
   "version": "3.7.6"
  }
 },
 "nbformat": 4,
 "nbformat_minor": 4
}
