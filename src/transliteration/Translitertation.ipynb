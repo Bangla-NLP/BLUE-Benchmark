{
 "cells": [
  {
   "cell_type": "code",
   "execution_count": null,
   "metadata": {},
   "outputs": [],
   "source": [
    "# Reference Code: https://pytorch.org/tutorials/intermediate/seq2seq_translation_tutorial.html\n",
    "# Author: Shubajit Saha"
   ]
  },
  {
   "cell_type": "code",
   "execution_count": 2,
   "metadata": {},
   "outputs": [],
   "source": [
    "import json"
   ]
  },
  {
   "cell_type": "code",
   "execution_count": 53,
   "metadata": {},
   "outputs": [],
   "source": [
    "data_dumps = ['/home/shubajit/Documents/ML/Transliteration_BN-EN/bn_trans_18042020.json']"
   ]
  },
  {
   "cell_type": "code",
   "execution_count": 106,
   "metadata": {},
   "outputs": [
    {
     "name": "stdout",
     "output_type": "stream",
     "text": [
      "250\n"
     ]
    }
   ],
   "source": [
    "data = []\n",
    "for f in data_dumps:\n",
    "    with open(f,'r') as fip:\n",
    "        data += fip.read().splitlines()\n",
    "print(len(data))"
   ]
  },
  {
   "cell_type": "code",
   "execution_count": 123,
   "metadata": {},
   "outputs": [],
   "source": [
    "from collections import defaultdict\n",
    "data_dict = defaultdict(list)\n",
    "for line in data:\n",
    "    jdata = json.loads(line)\n",
    "    for word in jdata['words']:\n",
    "        normalized_word = word['en'].lower().strip()\n",
    "        data_dict[word['bn']].append(normalized_word)\n",
    "\n",
    "#Remove duplicates\n",
    "for k,v in data_dict.items():\n",
    "    data_dict[k] = list(set(v))"
   ]
  },
  {
   "cell_type": "code",
   "execution_count": 124,
   "metadata": {},
   "outputs": [
    {
     "name": "stdout",
     "output_type": "stream",
     "text": [
      "3306 3328\n"
     ]
    }
   ],
   "source": [
    "total_judgements = 0\n",
    "cnt = 0\n",
    "for k,v in data_dict.items():\n",
    "    total_judgements += len(v)\n",
    "print(len(data_dict),total_judgements)"
   ]
  },
  {
   "cell_type": "markdown",
   "metadata": {},
   "source": [
    "## Build Vocabulary"
   ]
  },
  {
   "cell_type": "code",
   "execution_count": 128,
   "metadata": {},
   "outputs": [],
   "source": [
    "def build_vocabulary(l,threshold=0.0,start_token='<SOS>',end_token='<EOS>',unk_token='<UNK>'):\n",
    "    vocab = defaultdict(int)\n",
    "    for line in l:\n",
    "        for ch in line:\n",
    "            vocab[ch] += 1\n",
    "    vocab_list = []\n",
    "    for k,v in vocab.items():\n",
    "        vocab_list.append((k,v))\n",
    "    vocab_list = sorted(vocab_list,key=lambda x:-1*x[1])\n",
    "    return [start_token] + [end_token] + [x[0] for x in vocab_list if x[1] >= threshold] + [unk_token]"
   ]
  },
  {
   "cell_type": "code",
   "execution_count": 129,
   "metadata": {},
   "outputs": [
    {
     "name": "stdout",
     "output_type": "stream",
     "text": [
      "58\n"
     ]
    }
   ],
   "source": [
    "bengali_vocab = build_vocabulary(data_dict.keys(),30)\n",
    "n_bengali_vocab = len(bengali_vocab)\n",
    "print(n_bengali_vocab)"
   ]
  },
  {
   "cell_type": "code",
   "execution_count": 130,
   "metadata": {},
   "outputs": [
    {
     "name": "stdout",
     "output_type": "stream",
     "text": [
      "41\n"
     ]
    }
   ],
   "source": [
    "english_words = []\n",
    "for k in data_dict:\n",
    "    english_words += data_dict[k]\n",
    "english_vocab = build_vocabulary(english_words,10)\n",
    "n_english_vocab = len(english_vocab)\n",
    "print(n_english_vocab)"
   ]
  },
  {
   "cell_type": "markdown",
   "metadata": {},
   "source": [
    "## Train-Validation Split"
   ]
  },
  {
   "cell_type": "code",
   "execution_count": 140,
   "metadata": {},
   "outputs": [
    {
     "name": "stdout",
     "output_type": "stream",
     "text": [
      "#Train instances are:  2644\n",
      "#Validation instances are  662\n"
     ]
    }
   ],
   "source": [
    "n_train = int(len(data_dict)*0.8)\n",
    "n_validation = len(data_dict) - n_train\n",
    "print('#Train instances are: ',n_train)\n",
    "print('#Validation instances are ',n_validation)"
   ]
  },
  {
   "cell_type": "code",
   "execution_count": 156,
   "metadata": {},
   "outputs": [],
   "source": [
    "def getDataSetFromKeys(key_list,data_dict):\n",
    "    X = []\n",
    "    y = []\n",
    "    for key in key_list:\n",
    "        for word in data_dict[key]:\n",
    "            X.append(word)\n",
    "            y.append(key)\n",
    "    return X,y"
   ]
  },
  {
   "cell_type": "code",
   "execution_count": 158,
   "metadata": {},
   "outputs": [
    {
     "name": "stdout",
     "output_type": "stream",
     "text": [
      "Train Dataset size:  2662 2662\n",
      "Validation Dataset size:  666 666\n",
      "['shahriyar', 'broken', 'venge', 'porashona', 'jekkhetre', 'nepalio', 'duorani', 'peyechilam', 'to four', 'dagubati'] ['শাহরিয়ার', 'ভেঙ্গে', 'ভেঙ্গে', 'প়ড়াশোনা', 'যেক্ষেত্রে', 'নেপালিও', 'দুয়োরানী', 'পেয়েছিলাম', 'চারজনকে', 'দাগগুবাতি']\n"
     ]
    }
   ],
   "source": [
    "import random\n",
    "\n",
    "bn_words = list(data_dict.keys())\n",
    "random.shuffle(bn_words)\n",
    "bn_words_train = bn_words[:n_train]\n",
    "bn_words_validation = bn_words[n_train:]\n",
    "\n",
    "X_train,y_train = getDataSetFromKeys(bn_words_train,data_dict)\n",
    "X_validation,y_validation = getDataSetFromKeys(bn_words_validation,data_dict)\n",
    "\n",
    "print(\"Train Dataset size: \",len(X_train),len(y_train))\n",
    "print(\"Validation Dataset size: \",len(X_validation),len(y_validation))\n",
    "print(X_train[:10],y_train[:10])"
   ]
  },
  {
   "cell_type": "code",
   "execution_count": null,
   "metadata": {},
   "outputs": [],
   "source": []
  },
  {
   "cell_type": "markdown",
   "metadata": {},
   "source": [
    "## Model Building"
   ]
  },
  {
   "cell_type": "code",
   "execution_count": 202,
   "metadata": {},
   "outputs": [],
   "source": [
    "import torch\n",
    "import torch.nn as nn\n",
    "import torch.nn.functional as F\n",
    "import torch.optim as optim"
   ]
  },
  {
   "cell_type": "markdown",
   "metadata": {},
   "source": [
    "## Tensor Utilities"
   ]
  },
  {
   "cell_type": "code",
   "execution_count": 296,
   "metadata": {},
   "outputs": [],
   "source": [
    "def charToIndex(ch,vocab_list,unk_token='<UNK>'):\n",
    "    try:\n",
    "        return vocab_list.index(ch)\n",
    "    except ValueError:\n",
    "        return vocab_list.index(unk_token)\n",
    "\n",
    "def wordToTensor(word,vocab_list,start_token='<SOS>',end_token='<EOS>',unk_token='<UNK>'):\n",
    "    indices = [charToIndex(ch,vocab_list,unk_token) for ch in word] + [charToIndex(end_token,vocab_list)]\n",
    "    tensor = torch.tensor(indices,dtype=torch.long)\n",
    "    return tensor\n",
    "\n",
    "def pairToTensor(source,source_vocab,target,target_vocab):\n",
    "    return wordToTensor(source,source_vocab),wordToTensor(target,target_vocab)"
   ]
  },
  {
   "cell_type": "code",
   "execution_count": 210,
   "metadata": {},
   "outputs": [
    {
     "name": "stdout",
     "output_type": "stream",
     "text": [
      "tensor([ 8,  3, 16,  2,  4,  1])\n",
      "tensor([33, 13,  3,  2,  1])\n"
     ]
    }
   ],
   "source": [
    "print(wordToTensor('tomar',english_vocab))\n",
    "print(wordToTensor('আমরা',bengali_vocab))"
   ]
  },
  {
   "cell_type": "markdown",
   "metadata": {},
   "source": [
    "## Training Utilities"
   ]
  },
  {
   "cell_type": "code",
   "execution_count": 161,
   "metadata": {},
   "outputs": [],
   "source": [
    "import time\n",
    "import time\n",
    "import math\n",
    "\n",
    "\n",
    "def asMinutes(s):\n",
    "    m = math.floor(s / 60)\n",
    "    s -= m * 60\n",
    "    return '%dm %ds' % (m, s)\n",
    "\n",
    "\n",
    "def timeSince(since, percent):\n",
    "    now = time.time()\n",
    "    s = now - since\n",
    "    es = s / (percent)\n",
    "    rs = es - s\n",
    "    return '%s (- %s)' % (asMinutes(s), asMinutes(rs))"
   ]
  },
  {
   "cell_type": "code",
   "execution_count": 279,
   "metadata": {},
   "outputs": [],
   "source": [
    "import matplotlib.pyplot as plt\n",
    "plt.switch_backend('agg')\n",
    "%matplotlib inline\n",
    "import matplotlib.ticker as ticker\n",
    "import numpy as np\n",
    "\n",
    "def showPlot(points):\n",
    "    plt.figure()\n",
    "    fig, ax = plt.subplots()\n",
    "    # this locator puts ticks at regular intervals\n",
    "    loc = ticker.MultipleLocator(base=0.2)\n",
    "    ax.yaxis.set_major_locator(loc)\n",
    "    plt.plot(points)"
   ]
  },
  {
   "cell_type": "code",
   "execution_count": 270,
   "metadata": {},
   "outputs": [],
   "source": [
    "def trainInstance(\n",
    "        input_tensor,\n",
    "        target_tensor,\n",
    "        encoder,\n",
    "        decoder,\n",
    "        encoder_optimizer,\n",
    "        decoder_optimizer,\n",
    "        criterion,\n",
    "        target_start_token,\n",
    "        target_end_token,\n",
    "        teacher_forcing_ratio = 0.0,\n",
    "        max_length=25):\n",
    "    \n",
    "    #print(\"input: \",input_tensor.size(),input_tensor)\n",
    "    #print(\"target: \",target_tensor.size(),target_tensor)\n",
    "    \n",
    "    encoder_hidden = encoder.initHidden()\n",
    "\n",
    "    encoder_optimizer.zero_grad()\n",
    "    decoder_optimizer.zero_grad()\n",
    "\n",
    "    input_length = input_tensor.size(0)\n",
    "    target_length = target_tensor.size(0)\n",
    "\n",
    "    encoder_outputs = torch.zeros(max_length, encoder.hidden_size)\n",
    "\n",
    "    loss = 0\n",
    "    for ei in range(input_length):\n",
    "        encoder_output, encoder_hidden = encoder(\n",
    "            input_tensor[ei], encoder_hidden)\n",
    "        #print(\"Encoder output: \",encoder_output.size())\n",
    "        #print(\"Encoder hidden: \",encoder_hidden.size())\n",
    "        encoder_outputs[ei] = encoder_output[0, 0]\n",
    "\n",
    "    decoder_input = torch.tensor([[target_start_token]])\n",
    "\n",
    "    decoder_hidden = encoder_hidden\n",
    "\n",
    "    use_teacher_forcing = True if random.random() < teacher_forcing_ratio else False\n",
    "    \n",
    "    if use_teacher_forcing:\n",
    "        # Teacher forcing: Feed the target as the next input\n",
    "        #print(\"Using teacher forching.\")\n",
    "        for di in range(target_length):\n",
    "            decoder_output, decoder_hidden = decoder(\n",
    "                decoder_input, decoder_hidden)\n",
    "            loss += criterion(decoder_output, torch.tensor([target_tensor[di]]))\n",
    "            decoder_input = target_tensor[di]  # Teacher forcing\n",
    "\n",
    "    else:\n",
    "        # Without teacher forcing: use its own predictions as the next input\n",
    "        #print(\"Not using teacher forching.\")\n",
    "        for di in range(target_length):\n",
    "            decoder_output, decoder_hidden = decoder(\n",
    "                decoder_input, decoder_hidden)\n",
    "            topv, topi = decoder_output.topk(1)\n",
    "            decoder_input = topi.squeeze().detach()  # detach from history as input\n",
    "\n",
    "            loss += criterion(decoder_output, torch.tensor([target_tensor[di]]))\n",
    "            if decoder_input.item() == target_end_token:\n",
    "                break\n",
    "\n",
    "    loss.backward()\n",
    "\n",
    "    encoder_optimizer.step()\n",
    "    decoder_optimizer.step()\n",
    "\n",
    "    return loss.item() / target_length"
   ]
  },
  {
   "cell_type": "code",
   "execution_count": 274,
   "metadata": {},
   "outputs": [],
   "source": [
    "def train(encoder,\n",
    "          decoder,\n",
    "          n_iters,\n",
    "          learning_rate,\n",
    "          dropout,\n",
    "          X,\n",
    "          y,\n",
    "          target_start_token,\n",
    "          target_end_token,\n",
    "          teacher_forcing_ratio,\n",
    "          max_length,\n",
    "          print_every=100,\n",
    "          plot_every=100):\n",
    "    \n",
    "    start = time.time()\n",
    "    plot_losses = []\n",
    "    print_loss_total = 0  # Reset every print_every\n",
    "    plot_loss_total = 0  # Reset every plot_every\n",
    "\n",
    "    encoder_optimizer = optim.SGD(encoder.parameters(), lr=learning_rate)\n",
    "    decoder_optimizer = optim.SGD(decoder.parameters(), lr=learning_rate)\n",
    "    \n",
    "    indices = [random.randint(0,len(X)-1) for _ in range(n_iters)]\n",
    "    training_pairs = [(X[id],y[id])\n",
    "                      for id in indices]\n",
    "    criterion = nn.NLLLoss()\n",
    "\n",
    "    for iter in range(1, n_iters + 1):\n",
    "        training_pair = training_pairs[iter - 1]\n",
    "        input_tensor = training_pair[0]\n",
    "        target_tensor = training_pair[1]\n",
    "        \n",
    "        loss = trainInstance(input_tensor, target_tensor, encoder,\n",
    "                     decoder, encoder_optimizer, decoder_optimizer, criterion,target_start_token,target_end_token,teacher_forcing_ratio,max_length)\n",
    "        \n",
    "        print_loss_total += loss\n",
    "        plot_loss_total += loss\n",
    "\n",
    "        if iter % print_every == 0:\n",
    "            print_loss_avg = print_loss_total / print_every\n",
    "            print_loss_total = 0\n",
    "            print('%s (%d %d%%) %.4f' % (timeSince(start, iter / n_iters),\n",
    "                                         iter, iter / n_iters * 100, print_loss_avg))\n",
    "\n",
    "        if iter % plot_every == 0:\n",
    "            plot_loss_avg = plot_loss_total / plot_every\n",
    "            plot_losses.append(plot_loss_avg)\n",
    "            plot_loss_total = 0\n",
    "    \n",
    "    return plot_losses"
   ]
  },
  {
   "cell_type": "code",
   "execution_count": 328,
   "metadata": {},
   "outputs": [],
   "source": [
    "def evaluateInstance(source,encoder,decoder,start_token, end_token, source_vocab, target_vocab,max_length=25):\n",
    "    with torch.no_grad():\n",
    "        input_tensor = wordToTensor(source,source_vocab)\n",
    "        input_length = input_tensor.size()[0]\n",
    "        encoder_hidden = encoder.initHidden()\n",
    "\n",
    "        encoder_outputs = torch.zeros(max_length, encoder.hidden_size)\n",
    "\n",
    "        for ei in range(input_length):\n",
    "            encoder_output, encoder_hidden = encoder(input_tensor[ei],\n",
    "                                                     encoder_hidden)\n",
    "        print(encoder_hidden)\n",
    "        decoder_input = torch.tensor([[start_token]])  # SOS\n",
    "\n",
    "        decoder_hidden = encoder_hidden\n",
    "\n",
    "        decoded_words = []\n",
    "\n",
    "        for di in range(max_length):\n",
    "            decoder_output, decoder_hidden = decoder(\n",
    "                decoder_input, decoder_hidden)\n",
    "            print(decoder_output.size(),decoder_hidden.size())\n",
    "            topv, topi = decoder_output.data.topk(1)\n",
    "            if topi.item() == end_token:\n",
    "                decoded_words.append('<EOS>')\n",
    "                break\n",
    "            else:\n",
    "                decoded_words.append(target_vocab[topi.item()])\n",
    "                \n",
    "            decoder_input = topi.squeeze().detach()\n",
    "            \n",
    "        return decoded_words"
   ]
  },
  {
   "cell_type": "code",
   "execution_count": null,
   "metadata": {},
   "outputs": [],
   "source": [
    "def evaluate(encoder,decoder,X,y,start_token,end_token,course_vocab,target_vocab,)"
   ]
  },
  {
   "cell_type": "markdown",
   "metadata": {},
   "source": [
    "## Model"
   ]
  },
  {
   "cell_type": "markdown",
   "metadata": {},
   "source": [
    "### Encode-Decoder with GRU"
   ]
  },
  {
   "cell_type": "code",
   "execution_count": 234,
   "metadata": {},
   "outputs": [],
   "source": [
    "class Encoder(nn.Module):\n",
    "    def __init__(self,input_size,hidden_size):\n",
    "        super(Encoder,self).__init__()\n",
    "        self.hidden_size = hidden_size\n",
    "        self.embedding = nn.Embedding(input_size,hidden_size)\n",
    "        self.gru = nn.GRU(hidden_size,hidden_size)\n",
    "        \n",
    "    def forward(self,input,hidden):\n",
    "        embedded = self.embedding(input).view(1,1,-1)\n",
    "        output = embedded\n",
    "        output,hidden = self.gru(output,hidden)\n",
    "        return output,hidden\n",
    "    \n",
    "    def initHidden(self):\n",
    "        return torch.zeros(1,1,self.hidden_size)"
   ]
  },
  {
   "cell_type": "code",
   "execution_count": 239,
   "metadata": {},
   "outputs": [],
   "source": [
    "class Decoder(nn.Module):\n",
    "    def __init__(self,output_size,hidden_size):\n",
    "        super(Decoder,self).__init__()\n",
    "        self.hidden_size = hidden_size\n",
    "        self.embedding = nn.Embedding(output_size,hidden_size)\n",
    "        self.gru = nn.GRU(hidden_size,hidden_size)\n",
    "        self.out = nn.Linear(hidden_size,output_size)\n",
    "        self.softmax = nn.LogSoftmax(dim=1)\n",
    "        \n",
    "    def forward(self,input,hidden):\n",
    "        embedded = self.embedding(input).view(1,1,-1)\n",
    "        output = F.relu(embedded)\n",
    "        output,hidden = self.gru(output,hidden)\n",
    "        output = self.softmax(self.out(output[0]))\n",
    "        return output,hidden\n",
    "    \n",
    "    def initHidden(self):\n",
    "        return torch.zeros(1,1,self.hidden_size)"
   ]
  },
  {
   "cell_type": "markdown",
   "metadata": {},
   "source": [
    "### Experiment-1\n",
    "### Details: \n",
    "Moderl: Encoder Decoder\n",
    "Architecture: Single layer GRU 128 dimension"
   ]
  },
  {
   "cell_type": "code",
   "execution_count": 294,
   "metadata": {},
   "outputs": [],
   "source": [
    "## Parameters:\n",
    "learning_rate = 5*1e-2\n",
    "n_iters = 5000\n",
    "dropout = 0.5\n",
    "teacher_forcing_ratio = 0.0\n",
    "max_length = 25\n",
    "input_dim = n_english_vocab\n",
    "output_dim = n_bengali_vocab\n",
    "hidden_dim = 256\n",
    "encoder = Encoder(input_dim,hidden_dim)\n",
    "decoder = Decoder(output_dim,hidden_dim)"
   ]
  },
  {
   "cell_type": "code",
   "execution_count": 307,
   "metadata": {
    "scrolled": true
   },
   "outputs": [
    {
     "name": "stdout",
     "output_type": "stream",
     "text": [
      "0m 3s (- 2m 43s) (100 2%) 2.3090\n",
      "0m 6s (- 2m 34s) (200 4%) 2.2179\n",
      "0m 9s (- 2m 33s) (300 6%) 2.0844\n",
      "0m 13s (- 2m 31s) (400 8%) 2.1566\n",
      "0m 16s (- 2m 30s) (500 10%) 2.0929\n",
      "0m 20s (- 2m 26s) (600 12%) 2.0889\n",
      "0m 23s (- 2m 23s) (700 14%) 2.2575\n",
      "0m 26s (- 2m 19s) (800 16%) 2.1602\n",
      "0m 29s (- 2m 16s) (900 18%) 2.0709\n",
      "0m 33s (- 2m 13s) (1000 20%) 2.1234\n",
      "0m 36s (- 2m 9s) (1100 22%) 2.0253\n",
      "0m 39s (- 2m 6s) (1200 24%) 2.1424\n",
      "0m 43s (- 2m 3s) (1300 26%) 2.1872\n",
      "0m 46s (- 1m 59s) (1400 28%) 2.0301\n",
      "0m 49s (- 1m 56s) (1500 30%) 2.1368\n",
      "0m 53s (- 1m 52s) (1600 32%) 2.0594\n",
      "0m 56s (- 1m 49s) (1700 34%) 2.0574\n",
      "0m 59s (- 1m 46s) (1800 36%) 2.0946\n",
      "1m 3s (- 1m 42s) (1900 38%) 2.0278\n",
      "1m 6s (- 1m 39s) (2000 40%) 2.2293\n",
      "1m 9s (- 1m 36s) (2100 42%) 2.0866\n",
      "1m 12s (- 1m 32s) (2200 44%) 1.9948\n",
      "1m 16s (- 1m 29s) (2300 46%) 2.0512\n",
      "1m 19s (- 1m 26s) (2400 48%) 2.0051\n",
      "1m 22s (- 1m 22s) (2500 50%) 2.1741\n",
      "1m 25s (- 1m 19s) (2600 52%) 2.0297\n",
      "1m 29s (- 1m 16s) (2700 54%) 2.0898\n",
      "1m 32s (- 1m 12s) (2800 56%) 2.0265\n",
      "1m 35s (- 1m 9s) (2900 57%) 2.0086\n",
      "1m 39s (- 1m 6s) (3000 60%) 2.0291\n",
      "1m 42s (- 1m 2s) (3100 62%) 1.9977\n",
      "1m 46s (- 0m 59s) (3200 64%) 2.1483\n",
      "1m 49s (- 0m 56s) (3300 66%) 2.0338\n",
      "1m 52s (- 0m 53s) (3400 68%) 2.0743\n",
      "1m 56s (- 0m 49s) (3500 70%) 2.1310\n",
      "1m 59s (- 0m 46s) (3600 72%) 1.9237\n",
      "2m 2s (- 0m 43s) (3700 74%) 2.1779\n",
      "2m 6s (- 0m 39s) (3800 76%) 1.9616\n",
      "2m 9s (- 0m 36s) (3900 78%) 2.0991\n",
      "2m 12s (- 0m 33s) (4000 80%) 1.9197\n",
      "2m 16s (- 0m 29s) (4100 82%) 2.0438\n",
      "2m 19s (- 0m 26s) (4200 84%) 2.0175\n",
      "2m 22s (- 0m 23s) (4300 86%) 2.0369\n",
      "2m 26s (- 0m 19s) (4400 88%) 2.0412\n",
      "2m 29s (- 0m 16s) (4500 90%) 1.9471\n",
      "2m 32s (- 0m 13s) (4600 92%) 1.8578\n",
      "2m 35s (- 0m 9s) (4700 94%) 2.0244\n",
      "2m 38s (- 0m 6s) (4800 96%) 2.0544\n",
      "2m 42s (- 0m 3s) (4900 98%) 2.1731\n",
      "2m 45s (- 0m 0s) (5000 100%) 2.0551\n"
     ]
    },
    {
     "data": {
      "text/plain": [
       "<Figure size 432x288 with 0 Axes>"
      ]
     },
     "metadata": {},
     "output_type": "display_data"
    },
    {
     "data": {
      "image/png": "[encoded data removed]",
      "text/plain": [
       "<Figure size 432x288 with 1 Axes>"
      ]
     },
     "metadata": {
      "needs_background": "light"
     },
     "output_type": "display_data"
    }
   ],
   "source": [
    "## Training English to Bengali Transliteration\n",
    "X_train_tensor = [wordToTensor(word,english_vocab) for word in  X_train]\n",
    "y_train_tensor = [wordToTensor(word,bengali_vocab) for word in  y_train]\n",
    "plot_losses = train(encoder,decoder,n_iters,learning_rate,dropout,X_train_tensor,y_train_tensor,bengali_vocab.index('<SOS>'),bengali_vocab.index('<EOS>'),teacher_forcing_ratio,max_length)\n",
    "showPlot(plot_losses)"
   ]
  },
  {
   "cell_type": "code",
   "execution_count": 300,
   "metadata": {},
   "outputs": [],
   "source": [
    "X_validation_tensor = [wordToTensor(word,english_vocab) for word in  X_validation]\n",
    "y_validation_tensor = [wordToTensor(word,bengali_vocab) for word in  y_validation]"
   ]
  },
  {
   "cell_type": "code",
   "execution_count": 325,
   "metadata": {},
   "outputs": [],
   "source": [
    "id = random.randint(0,len(X_validation_tensor)-1)"
   ]
  },
  {
   "cell_type": "code",
   "execution_count": 329,
   "metadata": {},
   "outputs": [
    {
     "name": "stdout",
     "output_type": "stream",
     "text": [
      "babad বাবাদ tensor([13,  2, 13,  2, 12,  1])\n",
      "tensor([[[ 0.0153,  0.0215, -0.4463,  0.4836,  0.2189,  0.0711,  0.2445,\n",
      "           0.7045,  0.5012, -0.1321, -0.7384, -0.2245, -0.2357, -0.0730,\n",
      "           0.5046, -0.0864, -0.1356,  0.7219, -0.1491,  0.6414,  0.2135,\n",
      "          -0.4842, -0.2177, -0.0055, -0.1867, -0.1841, -0.4529, -0.4513,\n",
      "          -0.3016,  0.3933,  0.1484,  0.2030,  0.2970, -0.3727, -0.2631,\n",
      "           0.5929, -0.0492,  0.4421,  0.6103, -0.2370, -0.0553,  0.1398,\n",
      "          -0.0320, -0.1375,  0.0447, -0.2594, -0.4499, -0.3194,  0.2962,\n",
      "          -0.0036,  0.0446,  0.1331,  0.4626, -0.2390,  0.0533, -0.1584,\n",
      "          -0.6295, -0.3477,  0.2136, -0.0722,  0.4934, -0.0533,  0.3930,\n",
      "          -0.7778, -0.1588,  0.0504, -0.3833, -0.4652,  0.5963,  0.0543,\n",
      "           0.2107, -0.4085, -0.3674, -0.0726,  0.6808,  0.2076,  0.0443,\n",
      "          -0.5830,  0.1653,  0.6095, -0.5143,  0.1276,  0.7111,  0.0845,\n",
      "          -0.2186, -0.3620, -0.3148, -0.4942,  0.2884, -0.4627,  0.6003,\n",
      "          -0.3550, -0.6314, -0.0374,  0.0423,  0.0862,  0.6391,  0.2692,\n",
      "           0.6811,  0.0681, -0.4395,  0.3593, -0.2626,  0.3319,  0.7713,\n",
      "           0.6401, -0.2690, -0.3089,  0.1074,  0.0597, -0.1293,  0.0217,\n",
      "           0.4018, -0.2596, -0.2214, -0.5247,  0.3440,  0.2889,  0.0243,\n",
      "           0.5316, -0.5147,  0.1363, -0.0826,  0.7418,  0.4025,  0.0201,\n",
      "           0.0167,  0.4035]]])\n",
      "torch.Size([1, 58]) torch.Size([1, 1, 128])\n",
      "torch.Size([1, 58]) torch.Size([1, 1, 128])\n",
      "torch.Size([1, 58]) torch.Size([1, 1, 128])\n",
      "torch.Size([1, 58]) torch.Size([1, 1, 128])\n",
      "torch.Size([1, 58]) torch.Size([1, 1, 128])\n",
      "torch.Size([1, 58]) torch.Size([1, 1, 128])\n",
      "torch.Size([1, 58]) torch.Size([1, 1, 128])\n",
      "torch.Size([1, 58]) torch.Size([1, 1, 128])\n",
      "torch.Size([1, 58]) torch.Size([1, 1, 128])\n",
      "torch.Size([1, 58]) torch.Size([1, 1, 128])\n",
      "torch.Size([1, 58]) torch.Size([1, 1, 128])\n",
      "torch.Size([1, 58]) torch.Size([1, 1, 128])\n",
      "torch.Size([1, 58]) torch.Size([1, 1, 128])\n",
      "torch.Size([1, 58]) torch.Size([1, 1, 128])\n",
      "torch.Size([1, 58]) torch.Size([1, 1, 128])\n",
      "torch.Size([1, 58]) torch.Size([1, 1, 128])\n",
      "torch.Size([1, 58]) torch.Size([1, 1, 128])\n",
      "torch.Size([1, 58]) torch.Size([1, 1, 128])\n",
      "torch.Size([1, 58]) torch.Size([1, 1, 128])\n",
      "torch.Size([1, 58]) torch.Size([1, 1, 128])\n",
      "torch.Size([1, 58]) torch.Size([1, 1, 128])\n",
      "torch.Size([1, 58]) torch.Size([1, 1, 128])\n",
      "torch.Size([1, 58]) torch.Size([1, 1, 128])\n",
      "torch.Size([1, 58]) torch.Size([1, 1, 128])\n",
      "torch.Size([1, 58]) torch.Size([1, 1, 128])\n",
      "torch.Size([1, 58]) torch.Size([1, 1, 128])\n",
      "torch.Size([1, 58]) torch.Size([1, 1, 128])\n",
      "torch.Size([1, 58]) torch.Size([1, 1, 128])\n",
      "torch.Size([1, 58]) torch.Size([1, 1, 128])\n",
      "torch.Size([1, 58]) torch.Size([1, 1, 128])\n",
      "torch.Size([1, 58]) torch.Size([1, 1, 128])\n",
      "torch.Size([1, 58]) torch.Size([1, 1, 128])\n",
      "torch.Size([1, 58]) torch.Size([1, 1, 128])\n",
      "torch.Size([1, 58]) torch.Size([1, 1, 128])\n",
      "torch.Size([1, 58]) torch.Size([1, 1, 128])\n",
      "torch.Size([1, 58]) torch.Size([1, 1, 128])\n",
      "torch.Size([1, 58]) torch.Size([1, 1, 128])\n",
      "torch.Size([1, 58]) torch.Size([1, 1, 128])\n",
      "torch.Size([1, 58]) torch.Size([1, 1, 128])\n",
      "torch.Size([1, 58]) torch.Size([1, 1, 128])\n",
      "torch.Size([1, 58]) torch.Size([1, 1, 128])\n",
      "torch.Size([1, 58]) torch.Size([1, 1, 128])\n",
      "torch.Size([1, 58]) torch.Size([1, 1, 128])\n",
      "torch.Size([1, 58]) torch.Size([1, 1, 128])\n",
      "torch.Size([1, 58]) torch.Size([1, 1, 128])\n",
      "torch.Size([1, 58]) torch.Size([1, 1, 128])\n",
      "torch.Size([1, 58]) torch.Size([1, 1, 128])\n",
      "torch.Size([1, 58]) torch.Size([1, 1, 128])\n",
      "torch.Size([1, 58]) torch.Size([1, 1, 128])\n",
      "torch.Size([1, 58]) torch.Size([1, 1, 128])\n",
      "torch.Size([1, 58]) torch.Size([1, 1, 128])\n",
      "torch.Size([1, 58]) torch.Size([1, 1, 128])\n",
      "torch.Size([1, 58]) torch.Size([1, 1, 128])\n",
      "torch.Size([1, 58]) torch.Size([1, 1, 128])\n",
      "torch.Size([1, 58]) torch.Size([1, 1, 128])\n",
      "torch.Size([1, 58]) torch.Size([1, 1, 128])\n",
      "torch.Size([1, 58]) torch.Size([1, 1, 128])\n",
      "torch.Size([1, 58]) torch.Size([1, 1, 128])\n",
      "torch.Size([1, 58]) torch.Size([1, 1, 128])\n",
      "torch.Size([1, 58]) torch.Size([1, 1, 128])\n"
     ]
    },
    {
     "data": {
      "text/plain": [
       "['ঘ',\n",
       " 'ড',\n",
       " '—',\n",
       " '—',\n",
       " '—',\n",
       " '—',\n",
       " '—',\n",
       " '—',\n",
       " '—',\n",
       " '—',\n",
       " '—',\n",
       " '—',\n",
       " '—',\n",
       " '—',\n",
       " '—',\n",
       " '—',\n",
       " '—',\n",
       " '—',\n",
       " '—',\n",
       " '—',\n",
       " '—',\n",
       " '—',\n",
       " '—',\n",
       " '—',\n",
       " '—',\n",
       " '—',\n",
       " '—',\n",
       " '—',\n",
       " '—',\n",
       " '—',\n",
       " '—',\n",
       " '—',\n",
       " '—',\n",
       " '—',\n",
       " '—',\n",
       " '—',\n",
       " '—',\n",
       " '—',\n",
       " '—',\n",
       " '—',\n",
       " '—',\n",
       " '—',\n",
       " '—',\n",
       " '—',\n",
       " '—',\n",
       " '—',\n",
       " '—',\n",
       " '—',\n",
       " '—',\n",
       " '—',\n",
       " '—',\n",
       " '—',\n",
       " '—',\n",
       " '—',\n",
       " '—',\n",
       " '—',\n",
       " '—',\n",
       " '—',\n",
       " '—',\n",
       " '—']"
      ]
     },
     "execution_count": 329,
     "metadata": {},
     "output_type": "execute_result"
    }
   ],
   "source": [
    "print(X_validation[id],y_validation[id],X_validation_tensor[id])\n",
    "evaluateInstance(X_validation_tensor[id],encoder,decoder,bengali_vocab.index('<SOS>'),bengali_vocab.index('<EOS>'),english_vocab,bengali_vocab,max_length=60)"
   ]
  },
  {
   "cell_type": "code",
   "execution_count": null,
   "metadata": {},
   "outputs": [],
   "source": []
  }
 ],
 "metadata": {
  "kernelspec": {
   "display_name": "Python 3",
   "language": "python",
   "name": "python3"
  },
  "language_info": {
   "codemirror_mode": {
    "name": "ipython",
    "version": 3
   },
   "file_extension": ".py",
   "mimetype": "text/x-python",
   "name": "python",
   "nbconvert_exporter": "python",
   "pygments_lexer": "ipython3",
   "version": "3.7.6"
  }
 },
 "nbformat": 4,
 "nbformat_minor": 4
}
