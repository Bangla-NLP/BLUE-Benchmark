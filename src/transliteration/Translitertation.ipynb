{
  "nbformat": 4,
  "nbformat_minor": 0,
  "metadata": {
    "kernelspec": {
      "display_name": "Python 3",
      "language": "python",
      "name": "python3"
    },
    "language_info": {
      "codemirror_mode": {
        "name": "ipython",
        "version": 3
      },
      "file_extension": ".py",
      "mimetype": "text/x-python",
      "name": "python",
      "nbconvert_exporter": "python",
      "pygments_lexer": "ipython3",
      "version": "3.7.6"
    },
    "colab": {
      "name": "Translitertation.ipynb",
      "provenance": [],
      "toc_visible": true,
      "include_colab_link": true
    }
  },
  "cells": [
    {
      "cell_type": "markdown",
      "metadata": {
        "id": "view-in-github",
        "colab_type": "text"
      },
      "source": [
        "<a href=\"https://colab.research.google.com/gist/shubajitsaha/f1ea0cb297492476e46ed0ec67719a0e/translitertation.ipynb\" target=\"_parent\"><img src=\"https://colab.research.google.com/assets/colab-badge.svg\" alt=\"Open In Colab\"/></a>"
      ]
    },
    {
      "cell_type": "markdown",
      "metadata": {
        "id": "H9z68h9Kjak_",
        "colab_type": "text"
      },
      "source": [
        "## Transliteration Baseline From English to Bengali\n",
        "Authors: Shubajit Saha\n",
        "\n",
        "[Reference Code](https://pytorch.org/tutorials/intermediate/seq2seq_translation_tutorial.html)\n",
        "\n",
        "[Open in Colab](https://colab.research.google.com/github/Bangla-NLP/BLUE-Benchmark/blob/transliteration-base/src/transliteration/Translitertation.ipynb)\n"
      ]
    },
    {
      "cell_type": "markdown",
      "metadata": {
        "id": "qfR-DdgtjOxW",
        "colab_type": "text"
      },
      "source": [
        "## Data Loading"
      ]
    },
    {
      "cell_type": "code",
      "metadata": {
        "id": "rRxLNdg_TocP",
        "colab_type": "code",
        "colab": {}
      },
      "source": [
        "import urllib.request\n",
        "import json\n",
        "%matplotlib inline"
      ],
      "execution_count": 0,
      "outputs": []
    },
    {
      "cell_type": "code",
      "metadata": {
        "id": "85A3WDqdTocU",
        "colab_type": "code",
        "colab": {}
      },
      "source": [
        "data_source_url = 'https://raw.githubusercontent.com/Bangla-NLP/BLUE-Benchmark/master/data/transliteration/transliteration_bn_en.txt'\n",
        "filedata = urllib.request.urlretrieve(data_source_url)\n",
        "filename = filedata[0]"
      ],
      "execution_count": 0,
      "outputs": []
    },
    {
      "cell_type": "code",
      "metadata": {
        "id": "n0pYY40GTocY",
        "colab_type": "code",
        "outputId": "1f7ba4a0-5ec1-4ceb-8ba4-687ef9d0601f",
        "colab": {
          "base_uri": "https://localhost:8080/",
          "height": 34
        }
      },
      "source": [
        "data = []\n",
        "with open(filename,'r') as fip:\n",
        "    data += fip.read().splitlines()\n",
        "print(len(data))"
      ],
      "execution_count": 75,
      "outputs": [
        {
          "output_type": "stream",
          "text": [
            "300\n"
          ],
          "name": "stdout"
        }
      ]
    },
    {
      "cell_type": "markdown",
      "metadata": {
        "id": "ZQKA_Z9ukHJQ",
        "colab_type": "text"
      },
      "source": [
        "## Data Processing\n",
        "\n",
        "1. Lower Case\n",
        "2. Maximum Length of 25\n",
        "3. Strip trailing white spaces"
      ]
    },
    {
      "cell_type": "code",
      "metadata": {
        "id": "TP9eFIOsmqPh",
        "colab_type": "code",
        "outputId": "bce30ee9-6959-4723-86e3-2f1d0447f757",
        "colab": {
          "base_uri": "https://localhost:8080/",
          "height": 68
        }
      },
      "source": [
        "bengali_len_list = []\n",
        "english_len_list = []\n",
        "for line in data:\n",
        "    jdata = json.loads(line)\n",
        "    for word in jdata['words']:\n",
        "        normalized_word = word['en'].strip()\n",
        "        bengali_len_list.append(word['bn'])\n",
        "        english_len_list.append(normalized_word)\n",
        "print(len(bengali_len_list))\n",
        "bengali_len_list = list(set(bengali_len_list))\n",
        "english_len_list = list(set(english_len_list))\n",
        "bengali_len_list = [len(word) for word in bengali_len_list]\n",
        "english_len_list = [len(word) for word in english_len_list]\n",
        "print('#Unique Bengali words: ',len(bengali_len_list))\n",
        "print('#Unique English words: ',len(english_len_list))"
      ],
      "execution_count": 76,
      "outputs": [
        {
          "output_type": "stream",
          "text": [
            "4021\n",
            "#Unique Bengali words:  3942\n",
            "#Unique English words:  3908\n"
          ],
          "name": "stdout"
        }
      ]
    },
    {
      "cell_type": "code",
      "metadata": {
        "id": "29rR1F3RovxV",
        "colab_type": "code",
        "outputId": "c90bff26-0068-4a10-d7cb-bf56df0ebda7",
        "colab": {
          "base_uri": "https://localhost:8080/",
          "height": 315
        }
      },
      "source": [
        "import pandas as pd\n",
        "\n",
        "#Length distribution of bengali words\n",
        "df = pd.DataFrame(bengali_len_list)\n",
        "df.hist()"
      ],
      "execution_count": 77,
      "outputs": [
        {
          "output_type": "execute_result",
          "data": {
            "text/plain": [
              "array([[<matplotlib.axes._subplots.AxesSubplot object at 0x7fd8e12c3eb8>]],\n",
              "      dtype=object)"
            ]
          },
          "metadata": {
            "tags": []
          },
          "execution_count": 77
        },
        {
          "output_type": "display_data",
          "data": {
            "image/png": "[encoded data removed]",
            "text/plain": [
              "<Figure size 432x288 with 1 Axes>"
            ]
          },
          "metadata": {
            "tags": [],
            "needs_background": "light"
          }
        }
      ]
    },
    {
      "cell_type": "code",
      "metadata": {
        "id": "ZGNxAT3ZpGPm",
        "colab_type": "code",
        "outputId": "e89b360b-19b6-4e13-84e3-8562c2e9684a",
        "colab": {
          "base_uri": "https://localhost:8080/",
          "height": 315
        }
      },
      "source": [
        "#Length distribution of bengali words\n",
        "df = pd.DataFrame(english_len_list)\n",
        "df.hist()"
      ],
      "execution_count": 78,
      "outputs": [
        {
          "output_type": "execute_result",
          "data": {
            "text/plain": [
              "array([[<matplotlib.axes._subplots.AxesSubplot object at 0x7fd8924e29b0>]],\n",
              "      dtype=object)"
            ]
          },
          "metadata": {
            "tags": []
          },
          "execution_count": 78
        },
        {
          "output_type": "display_data",
          "data": {
            "image/png": "[encoded data removed]",
            "text/plain": [
              "<Figure size 432x288 with 1 Axes>"
            ]
          },
          "metadata": {
            "tags": [],
            "needs_background": "light"
          }
        }
      ]
    },
    {
      "cell_type": "code",
      "metadata": {
        "id": "7GLNHNH9Tocf",
        "colab_type": "code",
        "colab": {}
      },
      "source": [
        "from collections import defaultdict\n",
        "data_dict = defaultdict(list)\n",
        "MAX_LEN = 25\n",
        "for line in data:\n",
        "    jdata = json.loads(line)\n",
        "    for word in jdata['words']:\n",
        "        normalized_word = word['en'].lower().strip()\n",
        "        if len(normalized_word) <= MAX_LEN:\n",
        "          data_dict[word['bn']].append(normalized_word)\n",
        "\n",
        "#Remove duplicates\n",
        "for k,v in data_dict.items():\n",
        "    data_dict[k] = list(set(v))"
      ],
      "execution_count": 0,
      "outputs": []
    },
    {
      "cell_type": "code",
      "metadata": {
        "id": "Ac26X6X6Tock",
        "colab_type": "code",
        "outputId": "bb2f57d5-3f7a-42b6-e9e7-ef5fb988af44",
        "colab": {
          "base_uri": "https://localhost:8080/",
          "height": 68
        }
      },
      "source": [
        "total_judgements = 0\n",
        "cnt = 0\n",
        "for k,v in data_dict.items():\n",
        "    total_judgements += len(v)\n",
        "print(\"Unique Bengali words for which annotations present: \",len(data_dict))\n",
        "print(\"Total annotations present (since one word might get multiple annotations due to sampling): \",total_judgements)\n",
        "print(\"Annotation ratio: \",float(total_judgements)/len(data_dict))"
      ],
      "execution_count": 80,
      "outputs": [
        {
          "output_type": "stream",
          "text": [
            "Unique Bengali words for which annotations present:  3940\n",
            "Total annotations present (since one word might get multiple annotations due to sampling):  3971\n",
            "Annotation ratio:  1.0078680203045685\n"
          ],
          "name": "stdout"
        }
      ]
    },
    {
      "cell_type": "markdown",
      "metadata": {
        "id": "t0J6ceZeTocp",
        "colab_type": "text"
      },
      "source": [
        "## Build Vocabulary"
      ]
    },
    {
      "cell_type": "code",
      "metadata": {
        "id": "-DftdYI7Tocq",
        "colab_type": "code",
        "colab": {}
      },
      "source": [
        "def build_vocabulary(l,threshold=0.0,start_token='<SOS>',end_token='<EOS>',unk_token='<UNK>'):\n",
        "    vocab = defaultdict(int)\n",
        "    for line in l:\n",
        "        for ch in line:\n",
        "            vocab[ch] += 1\n",
        "    vocab_list = []\n",
        "    for k,v in vocab.items():\n",
        "        vocab_list.append((k,v))\n",
        "    vocab_list = sorted(vocab_list,key=lambda x:-1*x[1])\n",
        "    return [start_token] + [end_token] + [x[0] for x in vocab_list if x[1] >= threshold] + [unk_token]"
      ],
      "execution_count": 0,
      "outputs": []
    },
    {
      "cell_type": "code",
      "metadata": {
        "id": "9JrWe2jqTocv",
        "colab_type": "code",
        "outputId": "c4afe34e-ecef-4b3e-a709-093acfe93269",
        "colab": {
          "base_uri": "https://localhost:8080/",
          "height": 34
        }
      },
      "source": [
        "bengali_vocab = build_vocabulary(data_dict.keys(),30)\n",
        "n_bengali_vocab = len(bengali_vocab)\n",
        "print(n_bengali_vocab)"
      ],
      "execution_count": 82,
      "outputs": [
        {
          "output_type": "stream",
          "text": [
            "60\n"
          ],
          "name": "stdout"
        }
      ]
    },
    {
      "cell_type": "code",
      "metadata": {
        "id": "uZl-Dn6bToc1",
        "colab_type": "code",
        "outputId": "d8f026e7-3dc3-4d3e-f174-7bd9ec5bb472",
        "colab": {
          "base_uri": "https://localhost:8080/",
          "height": 34
        }
      },
      "source": [
        "english_words = []\n",
        "for k in data_dict:\n",
        "    english_words += data_dict[k]\n",
        "english_vocab = build_vocabulary(english_words,10)\n",
        "n_english_vocab = len(english_vocab)\n",
        "print(n_english_vocab)"
      ],
      "execution_count": 83,
      "outputs": [
        {
          "output_type": "stream",
          "text": [
            "42\n"
          ],
          "name": "stdout"
        }
      ]
    },
    {
      "cell_type": "markdown",
      "metadata": {
        "id": "L1OWbnzRToc6",
        "colab_type": "text"
      },
      "source": [
        "## Train-Validation Split"
      ]
    },
    {
      "cell_type": "code",
      "metadata": {
        "id": "l4-T8PE8Toc6",
        "colab_type": "code",
        "outputId": "3c469650-adb1-4e8d-edeb-5091d8318946",
        "colab": {
          "base_uri": "https://localhost:8080/",
          "height": 51
        }
      },
      "source": [
        "train_ratio = 0.9\n",
        "n_train = int(len(data_dict)*train_ratio)\n",
        "n_validation = len(data_dict) - n_train\n",
        "print('#Train instances are: ',n_train)\n",
        "print('#Validation instances are ',n_validation)"
      ],
      "execution_count": 84,
      "outputs": [
        {
          "output_type": "stream",
          "text": [
            "#Train instances are:  3546\n",
            "#Validation instances are  394\n"
          ],
          "name": "stdout"
        }
      ]
    },
    {
      "cell_type": "code",
      "metadata": {
        "id": "N4zQnHrIToc_",
        "colab_type": "code",
        "colab": {}
      },
      "source": [
        "def getDataSetFromKeys(key_list,data_dict):\n",
        "    X = []\n",
        "    y = []\n",
        "    for key in key_list:\n",
        "        for word in data_dict[key]:\n",
        "            X.append(word)\n",
        "            y.append(key)\n",
        "    return X,y"
      ],
      "execution_count": 0,
      "outputs": []
    },
    {
      "cell_type": "code",
      "metadata": {
        "id": "FV-1BDKOTodF",
        "colab_type": "code",
        "outputId": "2e818140-2e38-4edf-af6c-9f0509c2faf4",
        "colab": {
          "base_uri": "https://localhost:8080/",
          "height": 105
        }
      },
      "source": [
        "import random\n",
        "\n",
        "bn_words = list(data_dict.keys())\n",
        "random.shuffle(bn_words)\n",
        "bn_words_train = bn_words[:n_train]\n",
        "bn_words_validation = bn_words[n_train:]\n",
        "\n",
        "X_train,y_train = getDataSetFromKeys(bn_words_train,data_dict)\n",
        "X_validation,y_validation = getDataSetFromKeys(bn_words_validation,data_dict)\n",
        "\n",
        "print(\"Train Dataset size: \",len(X_train),len(y_train))\n",
        "print(\"Validation Dataset size: \",len(X_validation),len(y_validation))\n",
        "print(X_train[:10])\n",
        "print(y_train[:10])"
      ],
      "execution_count": 86,
      "outputs": [
        {
          "output_type": "stream",
          "text": [
            "Train Dataset size:  3575 3575\n",
            "Validation Dataset size:  396 396\n",
            "['trinamuleo', 'sadharonoto', 'poton', 'hefajoter', 'noukatie', 'premikara', 'poreche', 'khelanoi', 'aborton', 'ashrer']\n",
            "['তৃণমূলেও', 'সাধারণত', 'পতন৷', 'হেফাজতের', 'নৌকাটিই', 'প্রেমিকারা', 'প়ড়েছে', 'খেলানোই', 'আবর্তন', 'আসরের']\n"
          ],
          "name": "stdout"
        }
      ]
    },
    {
      "cell_type": "markdown",
      "metadata": {
        "id": "qmpm-GjUTodP",
        "colab_type": "text"
      },
      "source": [
        "## Model Building"
      ]
    },
    {
      "cell_type": "code",
      "metadata": {
        "id": "_LK7TW61TodP",
        "colab_type": "code",
        "outputId": "2c5031b5-b902-447d-802d-415a056d192a",
        "colab": {
          "base_uri": "https://localhost:8080/",
          "height": 68
        }
      },
      "source": [
        "import torch\n",
        "import torch.nn as nn\n",
        "import torch.nn.functional as F\n",
        "import torch.optim as optim\n",
        "import numpy as np\n",
        "print(\"Pytorch Version: \",torch.__version__)\n",
        "from IPython.core.debugger import set_trace\n",
        "\n",
        "# we will use CUDA if it is available\n",
        "USE_CUDA = torch.cuda.is_available()\n",
        "DEVICE=torch.device('cuda:0') # or set to 'cpu'\n",
        "print(\"CUDA:\", USE_CUDA)\n",
        "print(DEVICE)\n",
        "\n",
        "seed = 42\n",
        "np.random.seed(seed)\n",
        "torch.manual_seed(seed)\n",
        "torch.cuda.manual_seed(seed)"
      ],
      "execution_count": 2,
      "outputs": [
        {
          "output_type": "stream",
          "text": [
            "Pytorch Version:  1.4.0\n",
            "CUDA: False\n",
            "cuda:0\n"
          ],
          "name": "stdout"
        }
      ]
    },
    {
      "cell_type": "markdown",
      "metadata": {
        "id": "ypOsiF_wTodT",
        "colab_type": "text"
      },
      "source": [
        "## Tensor Utilities"
      ]
    },
    {
      "cell_type": "code",
      "metadata": {
        "id": "JqU-cNMvTodU",
        "colab_type": "code",
        "colab": {}
      },
      "source": [
        "def charToIndex(ch,vocab_list,unk_token='<UNK>'):\n",
        "    try:\n",
        "        return vocab_list.index(ch)\n",
        "    except ValueError:\n",
        "        return vocab_list.index(unk_token)\n",
        "\n",
        "def wordToTensor(word,vocab_list,start_token='<SOS>',end_token='<EOS>',unk_token='<UNK>'):\n",
        "    indices = [charToIndex(ch,vocab_list,unk_token) for ch in word] + [charToIndex(end_token,vocab_list)]\n",
        "    tensor = torch.tensor(indices,dtype=torch.long)\n",
        "    return tensor\n",
        "\n",
        "def pairToTensor(source,source_vocab,target,target_vocab):\n",
        "    return wordToTensor(source,source_vocab),wordToTensor(target,target_vocab)"
      ],
      "execution_count": 0,
      "outputs": []
    },
    {
      "cell_type": "code",
      "metadata": {
        "id": "GrMYG_4YTodY",
        "colab_type": "code",
        "outputId": "85a7163d-0661-4a5f-dadf-c254422398f3",
        "colab": {
          "base_uri": "https://localhost:8080/",
          "height": 51
        }
      },
      "source": [
        "print(wordToTensor('tomar',english_vocab))\n",
        "print(wordToTensor('আমরা',bengali_vocab))"
      ],
      "execution_count": 89,
      "outputs": [
        {
          "output_type": "stream",
          "text": [
            "tensor([ 8,  3, 16,  2,  4,  1])\n",
            "tensor([33, 13,  3,  2,  1])\n"
          ],
          "name": "stdout"
        }
      ]
    },
    {
      "cell_type": "markdown",
      "metadata": {
        "id": "yhKpvMqnTodd",
        "colab_type": "text"
      },
      "source": [
        "## Training Utilities"
      ]
    },
    {
      "cell_type": "code",
      "metadata": {
        "id": "RoMKv_KnTodd",
        "colab_type": "code",
        "colab": {}
      },
      "source": [
        "import time\n",
        "import time\n",
        "import math\n",
        "\n",
        "\n",
        "def asMinutes(s):\n",
        "    m = math.floor(s / 60)\n",
        "    s -= m * 60\n",
        "    return '%dm %ds' % (m, s)\n",
        "\n",
        "\n",
        "def timeSince(since, percent):\n",
        "    now = time.time()\n",
        "    s = now - since\n",
        "    es = s / (percent)\n",
        "    rs = es - s\n",
        "    return '%s (- %s)' % (asMinutes(s), asMinutes(rs))"
      ],
      "execution_count": 0,
      "outputs": []
    },
    {
      "cell_type": "code",
      "metadata": {
        "id": "S4yp5Yn_Todj",
        "colab_type": "code",
        "colab": {}
      },
      "source": [
        "import matplotlib.pyplot as plt\n",
        "plt.switch_backend('agg')\n",
        "%matplotlib inline\n",
        "import matplotlib.ticker as ticker\n",
        "import numpy as np\n",
        "import matplotlib.font_manager as mfm\n",
        "\n",
        "\n",
        "data_source_url = 'https://www.omicronlab.com/download/fonts/Siyamrupali.ttf'\n",
        "filedata = urllib.request.urlretrieve(data_source_url)\n",
        "filename = filedata[0]\n",
        "bengali_font = mfm.FontProperties(fname=filename)"
      ],
      "execution_count": 0,
      "outputs": []
    },
    {
      "cell_type": "code",
      "metadata": {
        "id": "0gOqA-eOjI7J",
        "colab_type": "code",
        "colab": {}
      },
      "source": [
        "def showPlot(points):\n",
        "    plt.figure()\n",
        "    fig, ax = plt.subplots()\n",
        "    # this locator puts ticks at regular intervals\n",
        "    loc = ticker.MultipleLocator(base=0.2)\n",
        "    ax.yaxis.set_major_locator(loc)\n",
        "    plt.plot(points)"
      ],
      "execution_count": 0,
      "outputs": []
    },
    {
      "cell_type": "code",
      "metadata": {
        "id": "0OoEx4aJTodm",
        "colab_type": "code",
        "colab": {}
      },
      "source": [
        "def trainInstance(\n",
        "        input_tensor,\n",
        "        target_tensor,\n",
        "        encoder,\n",
        "        decoder,\n",
        "        encoder_optimizer,\n",
        "        decoder_optimizer,\n",
        "        criterion,\n",
        "        target_start_token,\n",
        "        target_end_token,\n",
        "        teacher_forcing_ratio = 0.0,\n",
        "        max_length=25):\n",
        "    \n",
        "    #print(\"input: \",input_tensor.size(),input_tensor)\n",
        "    #print(\"target: \",target_tensor.size(),target_tensor)\n",
        "    \n",
        "    encoder_hidden = encoder.initHidden()\n",
        "\n",
        "    encoder_optimizer.zero_grad()\n",
        "    decoder_optimizer.zero_grad()\n",
        "\n",
        "    input_length = input_tensor.size(0)\n",
        "    target_length = target_tensor.size(0)\n",
        "\n",
        "    encoder_outputs = torch.zeros(max_length, encoder.hidden_size)\n",
        "\n",
        "    loss = 0\n",
        "    for ei in range(input_length):\n",
        "        encoder_output, encoder_hidden = encoder(\n",
        "            input_tensor[ei], encoder_hidden)\n",
        "        #print(\"Encoder output: \",encoder_output.size())\n",
        "        #print(\"Encoder hidden: \",encoder_hidden.size())\n",
        "        encoder_outputs[ei] = encoder_output[0, 0]\n",
        "\n",
        "    decoder_input = torch.tensor([[target_start_token]])\n",
        "\n",
        "    decoder_hidden = encoder_hidden\n",
        "\n",
        "    use_teacher_forcing = True if random.random() < teacher_forcing_ratio else False\n",
        "    \n",
        "    if use_teacher_forcing:\n",
        "        # Teacher forcing: Feed the target as the next input\n",
        "        #print(\"Using teacher forching.\")\n",
        "        for di in range(target_length):\n",
        "            decoder_output, decoder_hidden = decoder(\n",
        "                decoder_input, decoder_hidden)\n",
        "            loss += criterion(decoder_output, torch.tensor([target_tensor[di]]))\n",
        "            decoder_input = target_tensor[di]  # Teacher forcing\n",
        "\n",
        "    else:\n",
        "        # Without teacher forcing: use its own predictions as the next input\n",
        "        #print(\"Not using teacher forching.\")\n",
        "        for di in range(target_length):\n",
        "            decoder_output, decoder_hidden = decoder(\n",
        "                decoder_input, decoder_hidden)\n",
        "            topv, topi = decoder_output.topk(1)\n",
        "            decoder_input = topi.squeeze().detach()  # detach from history as input\n",
        "\n",
        "            loss += criterion(decoder_output, torch.tensor([target_tensor[di]]))\n",
        "            if decoder_input.item() == target_end_token:\n",
        "                break\n",
        "\n",
        "    loss.backward()\n",
        "\n",
        "    encoder_optimizer.step()\n",
        "    decoder_optimizer.step()\n",
        "\n",
        "    return loss.item() / target_length"
      ],
      "execution_count": 0,
      "outputs": []
    },
    {
      "cell_type": "code",
      "metadata": {
        "id": "QIaSL6Gf-SN9",
        "colab_type": "code",
        "colab": {}
      },
      "source": [
        "def trainInstanceWithAttention(\n",
        "        input_tensor,\n",
        "        target_tensor,\n",
        "        encoder,\n",
        "        decoder,\n",
        "        encoder_optimizer,\n",
        "        decoder_optimizer,\n",
        "        criterion,\n",
        "        target_start_token,\n",
        "        target_end_token,\n",
        "        teacher_forcing_ratio = 0.0,\n",
        "        max_length=25):\n",
        "    \n",
        "    #print(\"input: \",input_tensor.size(),input_tensor)\n",
        "    #print(\"target: \",target_tensor.size(),target_tensor)\n",
        "    \n",
        "    encoder_hidden = encoder.initHidden()\n",
        "\n",
        "    encoder_optimizer.zero_grad()\n",
        "    decoder_optimizer.zero_grad()\n",
        "\n",
        "    input_length = input_tensor.size(0)\n",
        "    target_length = target_tensor.size(0)\n",
        "\n",
        "    encoder_outputs = torch.zeros(max_length, encoder.hidden_size)\n",
        "\n",
        "    loss = 0\n",
        "    for ei in range(input_length):\n",
        "        encoder_output, encoder_hidden = encoder(\n",
        "            input_tensor[ei], encoder_hidden)\n",
        "        #print(\"Encoder output: \",encoder_output.size())\n",
        "        #print(\"Encoder hidden: \",encoder_hidden.size())\n",
        "        encoder_outputs[ei] = encoder_output[0, 0]\n",
        "\n",
        "    decoder_input = torch.tensor([[target_start_token]])\n",
        "\n",
        "    decoder_hidden = encoder_hidden\n",
        "\n",
        "    use_teacher_forcing = True if random.random() < teacher_forcing_ratio else False\n",
        "    \n",
        "    if use_teacher_forcing:\n",
        "        # Teacher forcing: Feed the target as the next input\n",
        "        #print(\"Using teacher forching.\")\n",
        "        for di in range(target_length):\n",
        "            decoder_output, decoder_hidden,decoder_attention = decoder(\n",
        "                decoder_input, decoder_hidden,encoder_outputs)\n",
        "            loss += criterion(decoder_output, torch.tensor([target_tensor[di]]))\n",
        "            decoder_input = target_tensor[di]  # Teacher forcing\n",
        "\n",
        "    else:\n",
        "        # Without teacher forcing: use its own predictions as the next input\n",
        "        #print(\"Not using teacher forching.\")\n",
        "        for di in range(target_length):\n",
        "            decoder_output, decoder_hidden,decoder_attention = decoder(\n",
        "                decoder_input, decoder_hidden,encoder_outputs)\n",
        "            topv, topi = decoder_output.topk(1)\n",
        "            decoder_input = topi.squeeze().detach()  # detach from history as input\n",
        "\n",
        "            loss += criterion(decoder_output, torch.tensor([target_tensor[di]]))\n",
        "            if decoder_input.item() == target_end_token:\n",
        "                break\n",
        "\n",
        "    loss.backward()\n",
        "\n",
        "    encoder_optimizer.step()\n",
        "    decoder_optimizer.step()\n",
        "\n",
        "    return loss.item() / target_length"
      ],
      "execution_count": 0,
      "outputs": []
    },
    {
      "cell_type": "code",
      "metadata": {
        "id": "tUBY4GR3Todr",
        "colab_type": "code",
        "colab": {}
      },
      "source": [
        "def train(encoder,\n",
        "          decoder,\n",
        "          n_iters,\n",
        "          learning_rate,\n",
        "          dropout,\n",
        "          X,\n",
        "          y,\n",
        "          target_start_token,\n",
        "          target_end_token,\n",
        "          teacher_forcing_ratio,\n",
        "          max_length,\n",
        "          print_every=100,\n",
        "          plot_every=100):\n",
        "    \n",
        "    start = time.time()\n",
        "    plot_losses = []\n",
        "    print_loss_total = 0  # Reset every print_every\n",
        "    plot_loss_total = 0  # Reset every plot_every\n",
        "\n",
        "    encoder_optimizer = optim.SGD(encoder.parameters(), lr=learning_rate)\n",
        "    decoder_optimizer = optim.SGD(decoder.parameters(), lr=learning_rate)\n",
        "    \n",
        "    indices = [random.randint(0,len(X)-1) for _ in range(n_iters)]\n",
        "    training_pairs = [(X[id],y[id])\n",
        "                      for id in indices]\n",
        "    criterion = nn.NLLLoss()\n",
        "\n",
        "    for iter in range(1, n_iters + 1):\n",
        "        training_pair = training_pairs[iter - 1]\n",
        "        input_tensor = training_pair[0]\n",
        "        target_tensor = training_pair[1]\n",
        "        \n",
        "        loss = trainInstance(input_tensor, target_tensor, encoder,\n",
        "                     decoder, encoder_optimizer, decoder_optimizer, criterion,target_start_token,target_end_token,teacher_forcing_ratio,max_length)\n",
        "        \n",
        "        print_loss_total += loss\n",
        "        plot_loss_total += loss\n",
        "\n",
        "        if iter % print_every == 0:\n",
        "            print_loss_avg = print_loss_total / print_every\n",
        "            print_loss_total = 0\n",
        "            print('%s (%d %d%%) %.4f' % (timeSince(start, iter / n_iters),\n",
        "                                         iter, iter / n_iters * 100, print_loss_avg))\n",
        "\n",
        "        if iter % plot_every == 0:\n",
        "            plot_loss_avg = plot_loss_total / plot_every\n",
        "            plot_losses.append(plot_loss_avg)\n",
        "            plot_loss_total = 0\n",
        "    \n",
        "    return plot_losses"
      ],
      "execution_count": 0,
      "outputs": []
    },
    {
      "cell_type": "code",
      "metadata": {
        "id": "Iwf38WuWOSoa",
        "colab_type": "code",
        "colab": {}
      },
      "source": [
        "def trainWithAttention(encoder,\n",
        "          decoder,\n",
        "          n_iters,\n",
        "          learning_rate,\n",
        "          dropout,\n",
        "          X,\n",
        "          y,\n",
        "          target_start_token,\n",
        "          target_end_token,\n",
        "          teacher_forcing_ratio,\n",
        "          max_length,\n",
        "          print_every=100,\n",
        "          plot_every=100):\n",
        "    \n",
        "    start = time.time()\n",
        "    plot_losses = []\n",
        "    print_loss_total = 0  # Reset every print_every\n",
        "    plot_loss_total = 0  # Reset every plot_every\n",
        "\n",
        "    encoder_optimizer = optim.SGD(encoder.parameters(), lr=learning_rate)\n",
        "    decoder_optimizer = optim.SGD(decoder.parameters(), lr=learning_rate)\n",
        "    \n",
        "    indices = [random.randint(0,len(X)-1) for _ in range(n_iters)]\n",
        "    training_pairs = [(X[id],y[id])\n",
        "                      for id in indices]\n",
        "    criterion = nn.NLLLoss()\n",
        "\n",
        "    for iter in range(1, n_iters + 1):\n",
        "        training_pair = training_pairs[iter - 1]\n",
        "        input_tensor = training_pair[0]\n",
        "        target_tensor = training_pair[1]\n",
        "        \n",
        "        loss = trainInstanceWithAttention(input_tensor, target_tensor, encoder,\n",
        "                     decoder, encoder_optimizer, decoder_optimizer, criterion,target_start_token,target_end_token,teacher_forcing_ratio,max_length)\n",
        "        \n",
        "        print_loss_total += loss\n",
        "        plot_loss_total += loss\n",
        "\n",
        "        if iter % print_every == 0:\n",
        "            print_loss_avg = print_loss_total / print_every\n",
        "            print_loss_total = 0\n",
        "            print('%s (%d %d%%) %.4f' % (timeSince(start, iter / n_iters),\n",
        "                                         iter, iter / n_iters * 100, print_loss_avg))\n",
        "\n",
        "        if iter % plot_every == 0:\n",
        "            plot_loss_avg = plot_loss_total / plot_every\n",
        "            plot_losses.append(plot_loss_avg)\n",
        "            plot_loss_total = 0\n",
        "    \n",
        "    return plot_losses"
      ],
      "execution_count": 0,
      "outputs": []
    },
    {
      "cell_type": "code",
      "metadata": {
        "id": "VdZtg6h2Todv",
        "colab_type": "code",
        "colab": {}
      },
      "source": [
        "def evaluateInstance(source,encoder,decoder,start_token, end_token, source_vocab, target_vocab,max_length=25):\n",
        "    with torch.no_grad():\n",
        "        input_tensor = wordToTensor(source,source_vocab)\n",
        "        input_length = input_tensor.size()[0]\n",
        "        encoder_hidden = encoder.initHidden()\n",
        "\n",
        "        encoder_outputs = torch.zeros(max_length, encoder.hidden_size)\n",
        "\n",
        "        for ei in range(input_length):\n",
        "            encoder_output, encoder_hidden = encoder(input_tensor[ei],\n",
        "                                                     encoder_hidden)\n",
        "        #print(encoder_hidden)\n",
        "        decoder_input = torch.tensor([[start_token]])  # SOS\n",
        "\n",
        "        decoder_hidden = encoder_hidden\n",
        "\n",
        "        decoded_words = []\n",
        "\n",
        "        for di in range(max_length):\n",
        "            decoder_output, decoder_hidden = decoder(\n",
        "                decoder_input, decoder_hidden)\n",
        "            #print(decoder_output.size(),decoder_hidden.size())\n",
        "            topv, topi = decoder_output.data.topk(1)\n",
        "            if topi.item() == end_token:\n",
        "                decoded_words.append('<EOS>')\n",
        "                break\n",
        "            else:\n",
        "                decoded_words.append(target_vocab[topi.item()])\n",
        "                \n",
        "            decoder_input = topi.squeeze().detach()\n",
        "            \n",
        "        return decoded_words"
      ],
      "execution_count": 0,
      "outputs": []
    },
    {
      "cell_type": "code",
      "metadata": {
        "id": "Qdyrn4vEP4mo",
        "colab_type": "code",
        "colab": {}
      },
      "source": [
        "def evaluateInstanceWithAttention(source,encoder,decoder,start_token, end_token, source_vocab, target_vocab,max_length=25):\n",
        "    with torch.no_grad():\n",
        "        input_tensor = wordToTensor(source,source_vocab)\n",
        "        input_length = input_tensor.size()[0]\n",
        "        encoder_hidden = encoder.initHidden()\n",
        "\n",
        "        print(source,input_tensor,input_length)\n",
        "\n",
        "        encoder_outputs = torch.zeros(max_length, encoder.hidden_size)\n",
        "        for ei in range(input_length):\n",
        "            encoder_output, encoder_hidden = encoder(input_tensor[ei],\n",
        "                                                     encoder_hidden)\n",
        "            encoder_outputs[ei] += encoder_output[0, 0]\n",
        "\n",
        "        #print(encoder_hidden)\n",
        "        print(\"start token: \",start_token,\"end_token: \",end_token)\n",
        "        decoder_input = torch.tensor([[start_token]])  # SOS\n",
        "\n",
        "        decoder_hidden = encoder_hidden\n",
        "\n",
        "        decoded_words = []\n",
        "        decoder_attentions = torch.zeros(max_length, max_length)\n",
        "\n",
        "        for di in range(max_length):\n",
        "            decoder_output, decoder_hidden,decoder_attention = decoder(\n",
        "                decoder_input, decoder_hidden,encoder_outputs)\n",
        "            decoder_attentions[di] = decoder_attention.data\n",
        "            #print(decoder_output.size(),decoder_hidden.size())\n",
        "            topv, topi = decoder_output.data.topk(1)\n",
        "            if topi.item() == end_token:\n",
        "                decoded_words.append('<EOS>')\n",
        "                break\n",
        "            else:\n",
        "                decoded_words.append(target_vocab[topi.item()])\n",
        "                \n",
        "            decoder_input = topi.squeeze().detach()\n",
        "            \n",
        "        return decoded_words,decoder_attentions[:di+1]"
      ],
      "execution_count": 0,
      "outputs": []
    },
    {
      "cell_type": "code",
      "metadata": {
        "id": "EBJDMjGAPn5Y",
        "colab_type": "code",
        "colab": {}
      },
      "source": [
        "def showAttention(input_sentence, output_words, attentions):\n",
        "    # Set up figure with colorbar\n",
        "    fig = plt.figure()\n",
        "    ax = fig.add_subplot(111)\n",
        "    cax = ax.matshow(attentions.numpy(), cmap='bone')\n",
        "    fig.colorbar(cax)\n",
        "\n",
        "    # Set up axes\n",
        "    ax.set_xticklabels([''] + input_sentence.split(' ') +\n",
        "                       ['<EOS>'], rotation=90)\n",
        "    ax.set_yticklabels([''] + output_words,fontproperties=bengali_font)\n",
        "\n",
        "    # Show label at every tick\n",
        "    ax.xaxis.set_major_locator(ticker.MultipleLocator(1))\n",
        "    ax.yaxis.set_major_locator(ticker.MultipleLocator(1))\n",
        "\n",
        "    plt.show()"
      ],
      "execution_count": 0,
      "outputs": []
    },
    {
      "cell_type": "markdown",
      "metadata": {
        "id": "h40VtVwGTod2",
        "colab_type": "text"
      },
      "source": [
        "## Model"
      ]
    },
    {
      "cell_type": "markdown",
      "metadata": {
        "id": "VLbR2BteTod2",
        "colab_type": "text"
      },
      "source": [
        "### Encode-Decoder with GRU"
      ]
    },
    {
      "cell_type": "code",
      "metadata": {
        "id": "6iYBs5I2Tod3",
        "colab_type": "code",
        "colab": {}
      },
      "source": [
        "class Encoder(nn.Module):\n",
        "    def __init__(self,input_size,hidden_size):\n",
        "        super(Encoder,self).__init__()\n",
        "        self.hidden_size = hidden_size\n",
        "        self.embedding = nn.Embedding(input_size,hidden_size)\n",
        "        self.gru = nn.GRU(hidden_size,hidden_size)\n",
        "        \n",
        "    def forward(self,input,hidden):\n",
        "        embedded = self.embedding(input).view(1,1,-1)\n",
        "        output = embedded\n",
        "        output,hidden = self.gru(output,hidden)\n",
        "        return output,hidden\n",
        "    \n",
        "    def initHidden(self):\n",
        "        return torch.zeros(1,1,self.hidden_size)"
      ],
      "execution_count": 0,
      "outputs": []
    },
    {
      "cell_type": "code",
      "metadata": {
        "id": "NYTgX8MaTod6",
        "colab_type": "code",
        "colab": {}
      },
      "source": [
        "class Decoder(nn.Module):\n",
        "    def __init__(self,output_size,hidden_size):\n",
        "        super(Decoder,self).__init__()\n",
        "        self.hidden_size = hidden_size\n",
        "        self.embedding = nn.Embedding(output_size,hidden_size)\n",
        "        self.gru = nn.GRU(hidden_size,hidden_size)\n",
        "        self.out = nn.Linear(hidden_size,output_size)\n",
        "        self.softmax = nn.LogSoftmax(dim=1)\n",
        "        \n",
        "    def forward(self,input,hidden):\n",
        "        embedded = self.embedding(input).view(1,1,-1)\n",
        "        output = F.relu(embedded)\n",
        "        output,hidden = self.gru(output,hidden)\n",
        "        output = self.softmax(self.out(output[0]))\n",
        "        return output,hidden\n",
        "    \n",
        "    def initHidden(self):\n",
        "        return torch.zeros(1,1,self.hidden_size)"
      ],
      "execution_count": 0,
      "outputs": []
    },
    {
      "cell_type": "code",
      "metadata": {
        "id": "SqLK5HV28Gmf",
        "colab_type": "code",
        "colab": {}
      },
      "source": [
        "class AttnDecoderRNN(nn.Module):\n",
        "  def __init__(self,output_size, hidden_size, max_length, dropout_p=0.1):\n",
        "      super(AttnDecoderRNN, self).__init__()\n",
        "      self.hidden_size = hidden_size\n",
        "      self.output_size = output_size\n",
        "      self.dropout_p = dropout_p\n",
        "      self.max_length = max_length\n",
        "\n",
        "      self.embedding = nn.Embedding(self.output_size, self.hidden_size)\n",
        "      self.attn = nn.Linear(self.hidden_size * 2, self.max_length)\n",
        "      self.attn_combine = nn.Linear(self.hidden_size * 2, self.hidden_size)\n",
        "      self.dropout = nn.Dropout(self.dropout_p)\n",
        "      self.gru = nn.GRU(self.hidden_size, self.hidden_size)\n",
        "      self.out = nn.Linear(self.hidden_size, self.output_size)\n",
        "\n",
        "  def forward(self, input, hidden, encoder_outputs):\n",
        "      embedded = self.embedding(input).view(1, 1, -1)\n",
        "      embedded = self.dropout(embedded)\n",
        "\n",
        "      attn_weights = F.softmax(\n",
        "          self.attn(torch.cat((embedded[0], hidden[0]), 1)), dim=1)\n",
        "      attn_applied = torch.bmm(attn_weights.unsqueeze(0),\n",
        "                                encoder_outputs.unsqueeze(0))\n",
        "\n",
        "      output = torch.cat((embedded[0], attn_applied[0]), 1)\n",
        "      output = self.attn_combine(output).unsqueeze(0)\n",
        "\n",
        "      output = F.relu(output)\n",
        "      output, hidden = self.gru(output, hidden)\n",
        "\n",
        "      output = F.log_softmax(self.out(output[0]), dim=1)\n",
        "      return output, hidden, attn_weights\n",
        "\n",
        "  def initHidden(self):\n",
        "      return torch.zeros(1, 1, self.hidden_size, device=device)"
      ],
      "execution_count": 0,
      "outputs": []
    },
    {
      "cell_type": "markdown",
      "metadata": {
        "id": "xO5pmmJdToeB",
        "colab_type": "text"
      },
      "source": [
        "### Experiment-1\n",
        "### Details: \n",
        "Model: Encoder Decoder\n",
        "Architecture: Single layer GRU 128 dimension"
      ]
    },
    {
      "cell_type": "code",
      "metadata": {
        "id": "v2l842cHToeC",
        "colab_type": "code",
        "colab": {}
      },
      "source": [
        "# ## Parameters:\n",
        "# learning_rate = 5*1e-2\n",
        "# n_iters = 5000\n",
        "# dropout = 0.5\n",
        "# teacher_forcing_ratio = 0.0\n",
        "# max_length = 25\n",
        "# input_dim = n_english_vocab\n",
        "# output_dim = n_bengali_vocab\n",
        "# hidden_dim = 256\n",
        "# encoder = Encoder(input_dim,hidden_dim)\n",
        "# decoder = Decoder(output_dim,hidden_dim)"
      ],
      "execution_count": 0,
      "outputs": []
    },
    {
      "cell_type": "code",
      "metadata": {
        "scrolled": true,
        "id": "FGlOZNsbToeG",
        "colab_type": "code",
        "colab": {}
      },
      "source": [
        "# ## Training English to Bengali Transliteration\n",
        "# X_train_tensor = [wordToTensor(word,english_vocab) for word in  X_train]\n",
        "# y_train_tensor = [wordToTensor(word,bengali_vocab) for word in  y_train]\n",
        "# plot_losses = train(encoder,decoder,n_iters,learning_rate,dropout,X_train_tensor,y_train_tensor,bengali_vocab.index('<SOS>'),bengali_vocab.index('<EOS>'),teacher_forcing_ratio,max_length)\n",
        "# showPlot(plot_losses)"
      ],
      "execution_count": 0,
      "outputs": []
    },
    {
      "cell_type": "markdown",
      "metadata": {
        "id": "Vv68Cnl5A4O2",
        "colab_type": "text"
      },
      "source": [
        "### Experiment-2\n",
        "### Details: \n",
        "Model: Encoder Decoder With Attentio\n",
        "Architecture: Single layer GRU 128 dimension with Attention"
      ]
    },
    {
      "cell_type": "code",
      "metadata": {
        "id": "bUOCryjQBDVW",
        "colab_type": "code",
        "colab": {
          "base_uri": "https://localhost:8080/",
          "height": 231
        },
        "outputId": "b1d82755-1eb2-428e-e8a6-2b699e0be41e"
      },
      "source": [
        "## Parameters:\n",
        "learning_rate = 5*1e-2\n",
        "n_iters = 5000\n",
        "n_epochs = 5\n",
        "dropout = 0.5\n",
        "teacher_forcing_ratio = 0.0\n",
        "max_length = 25\n",
        "input_dim = n_english_vocab\n",
        "output_dim = n_bengali_vocab\n",
        "hidden_dim = 256\n",
        "encoder = Encoder(input_dim,hidden_dim)\n",
        "decoder = AttnDecoderRNN(output_dim,hidden_dim,max_length)"
      ],
      "execution_count": 1,
      "outputs": [
        {
          "output_type": "error",
          "ename": "NameError",
          "evalue": "ignored",
          "traceback": [
            "\u001b[0;31m---------------------------------------------------------------------------\u001b[0m",
            "\u001b[0;31mNameError\u001b[0m                                 Traceback (most recent call last)",
            "\u001b[0;32m<ipython-input-1-7ad095c9ffa9>\u001b[0m in \u001b[0;36m<module>\u001b[0;34m()\u001b[0m\n\u001b[1;32m      4\u001b[0m \u001b[0mteacher_forcing_ratio\u001b[0m \u001b[0;34m=\u001b[0m \u001b[0;36m0.0\u001b[0m\u001b[0;34m\u001b[0m\u001b[0;34m\u001b[0m\u001b[0m\n\u001b[1;32m      5\u001b[0m \u001b[0mmax_length\u001b[0m \u001b[0;34m=\u001b[0m \u001b[0;36m25\u001b[0m\u001b[0;34m\u001b[0m\u001b[0;34m\u001b[0m\u001b[0m\n\u001b[0;32m----> 6\u001b[0;31m \u001b[0minput_dim\u001b[0m \u001b[0;34m=\u001b[0m \u001b[0mn_english_vocab\u001b[0m\u001b[0;34m\u001b[0m\u001b[0;34m\u001b[0m\u001b[0m\n\u001b[0m\u001b[1;32m      7\u001b[0m \u001b[0moutput_dim\u001b[0m \u001b[0;34m=\u001b[0m \u001b[0mn_bengali_vocab\u001b[0m\u001b[0;34m\u001b[0m\u001b[0;34m\u001b[0m\u001b[0m\n\u001b[1;32m      8\u001b[0m \u001b[0mhidden_dim\u001b[0m \u001b[0;34m=\u001b[0m \u001b[0;36m256\u001b[0m\u001b[0;34m\u001b[0m\u001b[0;34m\u001b[0m\u001b[0m\n",
            "\u001b[0;31mNameError\u001b[0m: name 'n_english_vocab' is not defined"
          ]
        }
      ]
    },
    {
      "cell_type": "code",
      "metadata": {
        "id": "7KRp26GXBDFN",
        "colab_type": "code",
        "colab": {
          "base_uri": "https://localhost:8080/",
          "height": 1000
        },
        "outputId": "1b3ba8d6-9359-4311-dbda-57905f58ed6c"
      },
      "source": [
        "## Training English to Bengali Transliteration\n",
        "X_train_tensor = [wordToTensor(word,english_vocab) for word in  X_train]\n",
        "y_train_tensor = [wordToTensor(word,bengali_vocab) for word in  y_train]\n",
        "#print(X_train[:10],y_train[:10])\n",
        "plot_losses = trainWithAttention(encoder,decoder,n_iters,learning_rate,dropout,X_train_tensor,y_train_tensor,bengali_vocab.index('<SOS>'),bengali_vocab.index('<EOS>'),teacher_forcing_ratio,max_length)\n",
        "showPlot(plot_losses)"
      ],
      "execution_count": 193,
      "outputs": [
        {
          "output_type": "stream",
          "text": [
            "0m 8s (- 7m 8s) (100 2%) 3.0322\n",
            "0m 16s (- 6m 45s) (200 4%) 2.8785\n",
            "0m 24s (- 6m 28s) (300 6%) 2.6111\n",
            "0m 32s (- 6m 12s) (400 8%) 2.3205\n",
            "0m 39s (- 5m 57s) (500 10%) 2.2465\n",
            "0m 46s (- 5m 41s) (600 12%) 1.9508\n",
            "0m 53s (- 5m 28s) (700 14%) 1.9703\n",
            "1m 0s (- 5m 16s) (800 16%) 2.0544\n",
            "1m 7s (- 5m 8s) (900 18%) 2.3089\n",
            "1m 15s (- 5m 2s) (1000 20%) 2.4390\n",
            "1m 23s (- 4m 55s) (1100 22%) 2.9319\n",
            "1m 31s (- 4m 48s) (1200 24%) 2.8570\n",
            "1m 39s (- 4m 43s) (1300 26%) 2.9299\n",
            "1m 48s (- 4m 37s) (1400 28%) 3.1346\n",
            "1m 57s (- 4m 33s) (1500 30%) 3.2769\n",
            "2m 5s (- 4m 27s) (1600 32%) 3.4071\n",
            "2m 14s (- 4m 21s) (1700 34%) 3.3530\n",
            "2m 23s (- 4m 15s) (1800 36%) 3.1634\n",
            "2m 33s (- 4m 10s) (1900 38%) 3.3156\n",
            "2m 42s (- 4m 3s) (2000 40%) 3.1805\n",
            "2m 52s (- 3m 57s) (2100 42%) 3.2915\n",
            "3m 0s (- 3m 50s) (2200 44%) 3.2537\n",
            "3m 10s (- 3m 43s) (2300 46%) 3.1108\n",
            "3m 19s (- 3m 36s) (2400 48%) 3.2390\n",
            "3m 29s (- 3m 29s) (2500 50%) 3.1508\n",
            "3m 39s (- 3m 22s) (2600 52%) 3.2287\n",
            "3m 49s (- 3m 15s) (2700 54%) 3.1480\n",
            "3m 58s (- 3m 7s) (2800 56%) 2.9987\n",
            "4m 8s (- 2m 59s) (2900 57%) 3.2335\n",
            "4m 18s (- 2m 52s) (3000 60%) 3.1426\n",
            "4m 27s (- 2m 43s) (3100 62%) 3.0922\n",
            "4m 36s (- 2m 35s) (3200 64%) 3.1622\n",
            "4m 46s (- 2m 27s) (3300 66%) 3.0767\n",
            "4m 55s (- 2m 19s) (3400 68%) 3.1100\n",
            "5m 4s (- 2m 10s) (3500 70%) 3.1039\n",
            "5m 13s (- 2m 2s) (3600 72%) 3.0535\n",
            "5m 22s (- 1m 53s) (3700 74%) 2.9115\n",
            "5m 31s (- 1m 44s) (3800 76%) 3.0237\n",
            "5m 40s (- 1m 36s) (3900 78%) 2.9626\n",
            "5m 50s (- 1m 27s) (4000 80%) 3.0754\n",
            "5m 59s (- 1m 18s) (4100 82%) 3.0341\n",
            "6m 8s (- 1m 10s) (4200 84%) 2.9320\n",
            "6m 17s (- 1m 1s) (4300 86%) 3.1022\n",
            "6m 26s (- 0m 52s) (4400 88%) 2.9138\n",
            "6m 34s (- 0m 43s) (4500 90%) 2.9321\n",
            "6m 43s (- 0m 35s) (4600 92%) 2.9353\n",
            "6m 53s (- 0m 26s) (4700 94%) 3.0077\n",
            "7m 2s (- 0m 17s) (4800 96%) 3.0655\n",
            "7m 11s (- 0m 8s) (4900 98%) 2.8240\n",
            "7m 20s (- 0m 0s) (5000 100%) 2.9322\n"
          ],
          "name": "stdout"
        },
        {
          "output_type": "display_data",
          "data": {
            "text/plain": [
              "<Figure size 432x288 with 0 Axes>"
            ]
          },
          "metadata": {
            "tags": []
          }
        },
        {
          "output_type": "display_data",
          "data": {
            "image/png": "[encoded data removed]",
            "text/plain": [
              "<Figure size 432x288 with 1 Axes>"
            ]
          },
          "metadata": {
            "tags": [],
            "needs_background": "light"
          }
        }
      ]
    },
    {
      "cell_type": "code",
      "metadata": {
        "id": "VxeNsaxvToeK",
        "colab_type": "code",
        "colab": {
          "base_uri": "https://localhost:8080/",
          "height": 350
        },
        "outputId": "9f484c65-596b-4c23-afac-7b2b29169e38"
      },
      "source": [
        "id = random.randint(0,len(X_validation)-1)\n",
        "print(id)\n",
        "# def evaluateInstanceWithAttention(\n",
        "#     source,\n",
        "#     encoder,\n",
        "#     decoder,\n",
        "#     start_token, \n",
        "#     end_token,\n",
        "#     source_vocab,\n",
        "#     target_vocab,\n",
        "#     max_length=25)\n",
        "input_sentence = X_validation[id]\n",
        "gold = y_validation[id]\n",
        "output_words, attentions = evaluateInstanceWithAttention(\n",
        "    input_sentence,\n",
        "    encoder,\n",
        "    decoder,\n",
        "    bengali_vocab.index('<SOS>'),\n",
        "    bengali_vocab.index('<EOS>'),\n",
        "    english_vocab,\n",
        "    bengali_vocab,\n",
        "    max_length)\n",
        "print(\"Source: \",input_sentence)\n",
        "print(\"Predicted: \",''.join(output_words))\n",
        "print(\"Gold: \",gold)\n",
        "showAttention(input_sentence, output_words, attentions)"
      ],
      "execution_count": 195,
      "outputs": [
        {
          "output_type": "stream",
          "text": [
            "267\n",
            "aimar tensor([ 2,  6, 16,  2,  4,  1]) 6\n",
            "start token:  0 end_token:  1\n",
            "Source:  aimar\n",
            "Predicted:  াাাাাাা<EOS>\n",
            "Gold:  আইমার\n"
          ],
          "name": "stdout"
        },
        {
          "output_type": "display_data",
          "data": {
            "image/png": "[encoded data removed]",
            "text/plain": [
              "<Figure size 432x288 with 2 Axes>"
            ]
          },
          "metadata": {
            "tags": [],
            "needs_background": "light"
          }
        }
      ]
    }
  ]
}
