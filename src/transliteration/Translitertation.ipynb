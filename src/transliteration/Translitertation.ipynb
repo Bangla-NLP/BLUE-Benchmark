{
  "nbformat": 4,
  "nbformat_minor": 0,
  "metadata": {
    "kernelspec": {
      "display_name": "Python 3",
      "language": "python",
      "name": "python3"
    },
    "language_info": {
      "codemirror_mode": {
        "name": "ipython",
        "version": 3
      },
      "file_extension": ".py",
      "mimetype": "text/x-python",
      "name": "python",
      "nbconvert_exporter": "python",
      "pygments_lexer": "ipython3",
      "version": "3.7.6"
    },
    "colab": {
      "name": "Translitertation.ipynb",
      "provenance": []
    }
  },
  "cells": [
    {
      "cell_type": "markdown",
      "metadata": {
        "id": "H9z68h9Kjak_",
        "colab_type": "text"
      },
      "source": [
        "## Transliteration Baseline From English to Bengali\n",
        "Authors: Shubajit Saha\n",
        "\n",
        "[Reference Code](https://pytorch.org/tutorials/intermediate/seq2seq_translation_tutorial.html)\n",
        "\n",
        "[Open in Colab](https://colab.research.google.com/github/Bangla-NLP/BLUE-Benchmark/blob/transliteration-base/src/transliteration/Translitertation.ipynb)\n"
      ]
    },
    {
      "cell_type": "markdown",
      "metadata": {
        "id": "qfR-DdgtjOxW",
        "colab_type": "text"
      },
      "source": [
        "## Data Loading"
      ]
    },
    {
      "cell_type": "code",
      "metadata": {
        "id": "rRxLNdg_TocP",
        "colab_type": "code",
        "colab": {}
      },
      "source": [
        "import urllib.request\n",
        "import json\n",
        "%matplotlib inline"
      ],
      "execution_count": 0,
      "outputs": []
    },
    {
      "cell_type": "code",
      "metadata": {
        "id": "85A3WDqdTocU",
        "colab_type": "code",
        "colab": {}
      },
      "source": [
        "data_source_url = 'https://raw.githubusercontent.com/Bangla-NLP/BLUE-Benchmark/master/data/transliteration/bn_trans_18042020.json'\n",
        "filedata = urllib.request.urlretrieve(data_source_url)\n",
        "filename = filedata[0]"
      ],
      "execution_count": 0,
      "outputs": []
    },
    {
      "cell_type": "code",
      "metadata": {
        "id": "n0pYY40GTocY",
        "colab_type": "code",
        "colab": {
          "base_uri": "https://localhost:8080/",
          "height": 34
        },
        "outputId": "71728f2d-5450-48c2-f157-7e8e96c01693"
      },
      "source": [
        "data = []\n",
        "with open(filename,'r') as fip:\n",
        "    data += fip.read().splitlines()\n",
        "print(len(data))"
      ],
      "execution_count": 23,
      "outputs": [
        {
          "output_type": "stream",
          "text": [
            "250\n"
          ],
          "name": "stdout"
        }
      ]
    },
    {
      "cell_type": "markdown",
      "metadata": {
        "id": "ZQKA_Z9ukHJQ",
        "colab_type": "text"
      },
      "source": [
        "## Data Processing\n",
        "\n",
        "1. Lower Case\n",
        "2. Maximum Length of 25\n",
        "3. Strip trailing white spaces"
      ]
    },
    {
      "cell_type": "code",
      "metadata": {
        "id": "TP9eFIOsmqPh",
        "colab_type": "code",
        "colab": {
          "base_uri": "https://localhost:8080/",
          "height": 68
        },
        "outputId": "d8b3e844-ede0-4bf7-a6d9-55426eeb2c6e"
      },
      "source": [
        "bengali_len_list = []\n",
        "english_len_list = []\n",
        "for line in data:\n",
        "    jdata = json.loads(line)\n",
        "    for word in jdata['words']:\n",
        "        normalized_word = word['en'].strip()\n",
        "        bengali_len_list.append(word['bn'])\n",
        "        english_len_list.append(normalized_word)\n",
        "print(len(bengali_len_list))\n",
        "bengali_len_list = list(set(bengali_len_list))\n",
        "english_len_list = list(set(english_len_list))\n",
        "bengali_len_list = [len(word) for word in bengali_len_list]\n",
        "english_len_list = [len(word) for word in english_len_list]\n",
        "print('#Unique Bengali words: ',len(bengali_len_list))\n",
        "print('#Unique Bengali words: ',len(english_len_list))"
      ],
      "execution_count": 53,
      "outputs": [
        {
          "output_type": "stream",
          "text": [
            "3368\n",
            "#Unique Bengali words:  3306\n",
            "#Unique Bengali words:  3268\n"
          ],
          "name": "stdout"
        }
      ]
    },
    {
      "cell_type": "code",
      "metadata": {
        "id": "29rR1F3RovxV",
        "colab_type": "code",
        "colab": {
          "base_uri": "https://localhost:8080/",
          "height": 315
        },
        "outputId": "f546916a-5832-43b5-da38-1815e9f6a918"
      },
      "source": [
        "import pandas as pd\n",
        "\n",
        "#Length distribution of bengali words\n",
        "df = pd.DataFrame(bengali_len_list)\n",
        "df.hist()"
      ],
      "execution_count": 55,
      "outputs": [
        {
          "output_type": "execute_result",
          "data": {
            "text/plain": [
              "array([[<matplotlib.axes._subplots.AxesSubplot object at 0x7f212d444940>]],\n",
              "      dtype=object)"
            ]
          },
          "metadata": {
            "tags": []
          },
          "execution_count": 55
        },
        {
          "output_type": "display_data",
          "data": {
            "image/png": "[encoded data removed]",
            "text/plain": [
              "<Figure size 432x288 with 1 Axes>"
            ]
          },
          "metadata": {
            "tags": [],
            "needs_background": "light"
          }
        }
      ]
    },
    {
      "cell_type": "code",
      "metadata": {
        "id": "ZGNxAT3ZpGPm",
        "colab_type": "code",
        "colab": {
          "base_uri": "https://localhost:8080/",
          "height": 315
        },
        "outputId": "b3065237-41d1-472b-cc6f-f55437a86a84"
      },
      "source": [
        "#Length distribution of bengali words\n",
        "df = pd.DataFrame(english_len_list)\n",
        "df.hist()"
      ],
      "execution_count": 58,
      "outputs": [
        {
          "output_type": "execute_result",
          "data": {
            "text/plain": [
              "array([[<matplotlib.axes._subplots.AxesSubplot object at 0x7f212ce48780>]],\n",
              "      dtype=object)"
            ]
          },
          "metadata": {
            "tags": []
          },
          "execution_count": 58
        },
        {
          "output_type": "display_data",
          "data": {
            "image/png": "[encoded data removed]",
            "text/plain": [
              "<Figure size 432x288 with 1 Axes>"
            ]
          },
          "metadata": {
            "tags": [],
            "needs_background": "light"
          }
        }
      ]
    },
    {
      "cell_type": "code",
      "metadata": {
        "id": "7GLNHNH9Tocf",
        "colab_type": "code",
        "colab": {}
      },
      "source": [
        "from collections import defaultdict\n",
        "data_dict = defaultdict(list)\n",
        "MAX_LEN = 25\n",
        "for line in data:\n",
        "    jdata = json.loads(line)\n",
        "    for word in jdata['words']:\n",
        "        normalized_word = word['en'].lower().strip()\n",
        "        if len(normalized_word) <= MAX_LEN:\n",
        "          data_dict[word['bn']].append(normalized_word)\n",
        "\n",
        "#Remove duplicates\n",
        "for k,v in data_dict.items():\n",
        "    data_dict[k] = list(set(v))"
      ],
      "execution_count": 0,
      "outputs": []
    },
    {
      "cell_type": "code",
      "metadata": {
        "id": "Ac26X6X6Tock",
        "colab_type": "code",
        "colab": {
          "base_uri": "https://localhost:8080/",
          "height": 68
        },
        "outputId": "d46f1d5e-3d96-45fe-9b61-6cbabe4c155b"
      },
      "source": [
        "total_judgements = 0\n",
        "cnt = 0\n",
        "for k,v in data_dict.items():\n",
        "    total_judgements += len(v)\n",
        "print(\"Unique Bengali words for which annotations present: \",len(data_dict))\n",
        "print(\"Total annotations present (since one word might get multiple annotations due to sampling): \",total_judgements)\n",
        "print(\"Annotation ratio: \",float(total_judgements)/len(data_dict))"
      ],
      "execution_count": 72,
      "outputs": [
        {
          "output_type": "stream",
          "text": [
            "Unique Bengali words for which annotations present:  3304\n",
            "Total annotations present (since one word might get multiple annotations due to sampling):  3326\n",
            "Annotation ratio:  1.0066585956416465\n"
          ],
          "name": "stdout"
        }
      ]
    },
    {
      "cell_type": "markdown",
      "metadata": {
        "id": "t0J6ceZeTocp",
        "colab_type": "text"
      },
      "source": [
        "## Build Vocabulary"
      ]
    },
    {
      "cell_type": "code",
      "metadata": {
        "id": "-DftdYI7Tocq",
        "colab_type": "code",
        "colab": {}
      },
      "source": [
        "def build_vocabulary(l,threshold=0.0,start_token='<SOS>',end_token='<EOS>',unk_token='<UNK>'):\n",
        "    vocab = defaultdict(int)\n",
        "    for line in l:\n",
        "        for ch in line:\n",
        "            vocab[ch] += 1\n",
        "    vocab_list = []\n",
        "    for k,v in vocab.items():\n",
        "        vocab_list.append((k,v))\n",
        "    vocab_list = sorted(vocab_list,key=lambda x:-1*x[1])\n",
        "    return [start_token] + [end_token] + [x[0] for x in vocab_list if x[1] >= threshold] + [unk_token]"
      ],
      "execution_count": 0,
      "outputs": []
    },
    {
      "cell_type": "code",
      "metadata": {
        "id": "9JrWe2jqTocv",
        "colab_type": "code",
        "colab": {
          "base_uri": "https://localhost:8080/",
          "height": 34
        },
        "outputId": "d3279191-1a00-4cf9-db54-2c9e2f2ac6df"
      },
      "source": [
        "bengali_vocab = build_vocabulary(data_dict.keys(),30)\n",
        "n_bengali_vocab = len(bengali_vocab)\n",
        "print(n_bengali_vocab)"
      ],
      "execution_count": 74,
      "outputs": [
        {
          "output_type": "stream",
          "text": [
            "58\n"
          ],
          "name": "stdout"
        }
      ]
    },
    {
      "cell_type": "code",
      "metadata": {
        "id": "uZl-Dn6bToc1",
        "colab_type": "code",
        "colab": {
          "base_uri": "https://localhost:8080/",
          "height": 34
        },
        "outputId": "b5822e90-900d-4b5f-8b49-e788c87301af"
      },
      "source": [
        "english_words = []\n",
        "for k in data_dict:\n",
        "    english_words += data_dict[k]\n",
        "english_vocab = build_vocabulary(english_words,10)\n",
        "n_english_vocab = len(english_vocab)\n",
        "print(n_english_vocab)"
      ],
      "execution_count": 75,
      "outputs": [
        {
          "output_type": "stream",
          "text": [
            "41\n"
          ],
          "name": "stdout"
        }
      ]
    },
    {
      "cell_type": "markdown",
      "metadata": {
        "id": "L1OWbnzRToc6",
        "colab_type": "text"
      },
      "source": [
        "## Train-Validation Split"
      ]
    },
    {
      "cell_type": "code",
      "metadata": {
        "id": "l4-T8PE8Toc6",
        "colab_type": "code",
        "colab": {
          "base_uri": "https://localhost:8080/",
          "height": 51
        },
        "outputId": "2dedcbb4-7979-41a5-bc03-7f8ac5f48390"
      },
      "source": [
        "n_train = int(len(data_dict)*0.8)\n",
        "n_validation = len(data_dict) - n_train\n",
        "print('#Train instances are: ',n_train)\n",
        "print('#Validation instances are ',n_validation)"
      ],
      "execution_count": 76,
      "outputs": [
        {
          "output_type": "stream",
          "text": [
            "#Train instances are:  2643\n",
            "#Validation instances are  661\n"
          ],
          "name": "stdout"
        }
      ]
    },
    {
      "cell_type": "code",
      "metadata": {
        "id": "N4zQnHrIToc_",
        "colab_type": "code",
        "colab": {}
      },
      "source": [
        "def getDataSetFromKeys(key_list,data_dict):\n",
        "    X = []\n",
        "    y = []\n",
        "    for key in key_list:\n",
        "        for word in data_dict[key]:\n",
        "            X.append(word)\n",
        "            y.append(key)\n",
        "    return X,y"
      ],
      "execution_count": 0,
      "outputs": []
    },
    {
      "cell_type": "code",
      "metadata": {
        "id": "FV-1BDKOTodF",
        "colab_type": "code",
        "colab": {
          "base_uri": "https://localhost:8080/",
          "height": 85
        },
        "outputId": "fa20e916-6202-4861-8566-b37f5a9d8522"
      },
      "source": [
        "import random\n",
        "\n",
        "bn_words = list(data_dict.keys())\n",
        "random.shuffle(bn_words)\n",
        "bn_words_train = bn_words[:n_train]\n",
        "bn_words_validation = bn_words[n_train:]\n",
        "\n",
        "X_train,y_train = getDataSetFromKeys(bn_words_train,data_dict)\n",
        "X_validation,y_validation = getDataSetFromKeys(bn_words_validation,data_dict)\n",
        "\n",
        "print(\"Train Dataset size: \",len(X_train),len(y_train))\n",
        "print(\"Validation Dataset size: \",len(X_validation),len(y_validation))\n",
        "print(X_train[:10])\n",
        "print(y_train[:10])"
      ],
      "execution_count": 78,
      "outputs": [
        {
          "output_type": "stream",
          "text": [
            "Train Dataset size:  2659 2659\n",
            "Validation Dataset size:  667 667\n",
            "['safe er', 'hegei', '', 'বোবা', 'goneshbaba', 'prochar', '', 'damien', 'sontrasbader', 'hoy']\n",
            "['সেফের', 'হেগেই', 'সুইনহো', 'ঋষিদের', 'গণেশবাবা', '“প্রচার', 'বিস্ফোরণের', 'ড্যামিয়েন', 'সন্ত্রাসবাদের', 'হয়']\n"
          ],
          "name": "stdout"
        }
      ]
    },
    {
      "cell_type": "markdown",
      "metadata": {
        "id": "qmpm-GjUTodP",
        "colab_type": "text"
      },
      "source": [
        "## Model Building"
      ]
    },
    {
      "cell_type": "code",
      "metadata": {
        "id": "_LK7TW61TodP",
        "colab_type": "code",
        "colab": {
          "base_uri": "https://localhost:8080/",
          "height": 34
        },
        "outputId": "ad40949b-0637-42fc-bf4b-86b639e062e6"
      },
      "source": [
        "import torch\n",
        "import torch.nn as nn\n",
        "import torch.nn.functional as F\n",
        "import torch.optim as optim\n",
        "print(torch.__version__)"
      ],
      "execution_count": 79,
      "outputs": [
        {
          "output_type": "stream",
          "text": [
            "1.4.0\n"
          ],
          "name": "stdout"
        }
      ]
    },
    {
      "cell_type": "markdown",
      "metadata": {
        "id": "ypOsiF_wTodT",
        "colab_type": "text"
      },
      "source": [
        "## Tensor Utilities"
      ]
    },
    {
      "cell_type": "code",
      "metadata": {
        "id": "JqU-cNMvTodU",
        "colab_type": "code",
        "colab": {}
      },
      "source": [
        "def charToIndex(ch,vocab_list,unk_token='<UNK>'):\n",
        "    try:\n",
        "        return vocab_list.index(ch)\n",
        "    except ValueError:\n",
        "        return vocab_list.index(unk_token)\n",
        "\n",
        "def wordToTensor(word,vocab_list,start_token='<SOS>',end_token='<EOS>',unk_token='<UNK>'):\n",
        "    indices = [charToIndex(ch,vocab_list,unk_token) for ch in word] + [charToIndex(end_token,vocab_list)]\n",
        "    tensor = torch.tensor(indices,dtype=torch.long)\n",
        "    return tensor\n",
        "\n",
        "def pairToTensor(source,source_vocab,target,target_vocab):\n",
        "    return wordToTensor(source,source_vocab),wordToTensor(target,target_vocab)"
      ],
      "execution_count": 0,
      "outputs": []
    },
    {
      "cell_type": "code",
      "metadata": {
        "id": "GrMYG_4YTodY",
        "colab_type": "code",
        "colab": {
          "base_uri": "https://localhost:8080/",
          "height": 51
        },
        "outputId": "85adead8-5d37-4d43-f37f-1cd3d2c005ed"
      },
      "source": [
        "print(wordToTensor('tomar',english_vocab))\n",
        "print(wordToTensor('আমরা',bengali_vocab))"
      ],
      "execution_count": 81,
      "outputs": [
        {
          "output_type": "stream",
          "text": [
            "tensor([ 8,  3, 16,  2,  4,  1])\n",
            "tensor([33, 13,  3,  2,  1])\n"
          ],
          "name": "stdout"
        }
      ]
    },
    {
      "cell_type": "markdown",
      "metadata": {
        "id": "yhKpvMqnTodd",
        "colab_type": "text"
      },
      "source": [
        "## Training Utilities"
      ]
    },
    {
      "cell_type": "code",
      "metadata": {
        "id": "RoMKv_KnTodd",
        "colab_type": "code",
        "colab": {}
      },
      "source": [
        "import time\n",
        "import time\n",
        "import math\n",
        "\n",
        "\n",
        "def asMinutes(s):\n",
        "    m = math.floor(s / 60)\n",
        "    s -= m * 60\n",
        "    return '%dm %ds' % (m, s)\n",
        "\n",
        "\n",
        "def timeSince(since, percent):\n",
        "    now = time.time()\n",
        "    s = now - since\n",
        "    es = s / (percent)\n",
        "    rs = es - s\n",
        "    return '%s (- %s)' % (asMinutes(s), asMinutes(rs))"
      ],
      "execution_count": 0,
      "outputs": []
    },
    {
      "cell_type": "code",
      "metadata": {
        "id": "S4yp5Yn_Todj",
        "colab_type": "code",
        "colab": {}
      },
      "source": [
        "import matplotlib.pyplot as plt\n",
        "plt.switch_backend('agg')\n",
        "%matplotlib inline\n",
        "import matplotlib.ticker as ticker\n",
        "import numpy as np\n",
        "\n",
        "def showPlot(points):\n",
        "    plt.figure()\n",
        "    fig, ax = plt.subplots()\n",
        "    # this locator puts ticks at regular intervals\n",
        "    loc = ticker.MultipleLocator(base=0.2)\n",
        "    ax.yaxis.set_major_locator(loc)\n",
        "    plt.plot(points)"
      ],
      "execution_count": 0,
      "outputs": []
    },
    {
      "cell_type": "code",
      "metadata": {
        "id": "0OoEx4aJTodm",
        "colab_type": "code",
        "colab": {}
      },
      "source": [
        "def trainInstance(\n",
        "        input_tensor,\n",
        "        target_tensor,\n",
        "        encoder,\n",
        "        decoder,\n",
        "        encoder_optimizer,\n",
        "        decoder_optimizer,\n",
        "        criterion,\n",
        "        target_start_token,\n",
        "        target_end_token,\n",
        "        teacher_forcing_ratio = 0.0,\n",
        "        max_length=25):\n",
        "    \n",
        "    #print(\"input: \",input_tensor.size(),input_tensor)\n",
        "    #print(\"target: \",target_tensor.size(),target_tensor)\n",
        "    \n",
        "    encoder_hidden = encoder.initHidden()\n",
        "\n",
        "    encoder_optimizer.zero_grad()\n",
        "    decoder_optimizer.zero_grad()\n",
        "\n",
        "    input_length = input_tensor.size(0)\n",
        "    target_length = target_tensor.size(0)\n",
        "\n",
        "    encoder_outputs = torch.zeros(max_length, encoder.hidden_size)\n",
        "\n",
        "    loss = 0\n",
        "    for ei in range(input_length):\n",
        "        encoder_output, encoder_hidden = encoder(\n",
        "            input_tensor[ei], encoder_hidden)\n",
        "        #print(\"Encoder output: \",encoder_output.size())\n",
        "        #print(\"Encoder hidden: \",encoder_hidden.size())\n",
        "        encoder_outputs[ei] = encoder_output[0, 0]\n",
        "\n",
        "    decoder_input = torch.tensor([[target_start_token]])\n",
        "\n",
        "    decoder_hidden = encoder_hidden\n",
        "\n",
        "    use_teacher_forcing = True if random.random() < teacher_forcing_ratio else False\n",
        "    \n",
        "    if use_teacher_forcing:\n",
        "        # Teacher forcing: Feed the target as the next input\n",
        "        #print(\"Using teacher forching.\")\n",
        "        for di in range(target_length):\n",
        "            decoder_output, decoder_hidden = decoder(\n",
        "                decoder_input, decoder_hidden)\n",
        "            loss += criterion(decoder_output, torch.tensor([target_tensor[di]]))\n",
        "            decoder_input = target_tensor[di]  # Teacher forcing\n",
        "\n",
        "    else:\n",
        "        # Without teacher forcing: use its own predictions as the next input\n",
        "        #print(\"Not using teacher forching.\")\n",
        "        for di in range(target_length):\n",
        "            decoder_output, decoder_hidden = decoder(\n",
        "                decoder_input, decoder_hidden)\n",
        "            topv, topi = decoder_output.topk(1)\n",
        "            decoder_input = topi.squeeze().detach()  # detach from history as input\n",
        "\n",
        "            loss += criterion(decoder_output, torch.tensor([target_tensor[di]]))\n",
        "            if decoder_input.item() == target_end_token:\n",
        "                break\n",
        "\n",
        "    loss.backward()\n",
        "\n",
        "    encoder_optimizer.step()\n",
        "    decoder_optimizer.step()\n",
        "\n",
        "    return loss.item() / target_length"
      ],
      "execution_count": 0,
      "outputs": []
    },
    {
      "cell_type": "code",
      "metadata": {
        "id": "tUBY4GR3Todr",
        "colab_type": "code",
        "colab": {}
      },
      "source": [
        "def train(encoder,\n",
        "          decoder,\n",
        "          n_iters,\n",
        "          learning_rate,\n",
        "          dropout,\n",
        "          X,\n",
        "          y,\n",
        "          target_start_token,\n",
        "          target_end_token,\n",
        "          teacher_forcing_ratio,\n",
        "          max_length,\n",
        "          print_every=100,\n",
        "          plot_every=100):\n",
        "    \n",
        "    start = time.time()\n",
        "    plot_losses = []\n",
        "    print_loss_total = 0  # Reset every print_every\n",
        "    plot_loss_total = 0  # Reset every plot_every\n",
        "\n",
        "    encoder_optimizer = optim.SGD(encoder.parameters(), lr=learning_rate)\n",
        "    decoder_optimizer = optim.SGD(decoder.parameters(), lr=learning_rate)\n",
        "    \n",
        "    indices = [random.randint(0,len(X)-1) for _ in range(n_iters)]\n",
        "    training_pairs = [(X[id],y[id])\n",
        "                      for id in indices]\n",
        "    criterion = nn.NLLLoss()\n",
        "\n",
        "    for iter in range(1, n_iters + 1):\n",
        "        training_pair = training_pairs[iter - 1]\n",
        "        input_tensor = training_pair[0]\n",
        "        target_tensor = training_pair[1]\n",
        "        \n",
        "        loss = trainInstance(input_tensor, target_tensor, encoder,\n",
        "                     decoder, encoder_optimizer, decoder_optimizer, criterion,target_start_token,target_end_token,teacher_forcing_ratio,max_length)\n",
        "        \n",
        "        print_loss_total += loss\n",
        "        plot_loss_total += loss\n",
        "\n",
        "        if iter % print_every == 0:\n",
        "            print_loss_avg = print_loss_total / print_every\n",
        "            print_loss_total = 0\n",
        "            print('%s (%d %d%%) %.4f' % (timeSince(start, iter / n_iters),\n",
        "                                         iter, iter / n_iters * 100, print_loss_avg))\n",
        "\n",
        "        if iter % plot_every == 0:\n",
        "            plot_loss_avg = plot_loss_total / plot_every\n",
        "            plot_losses.append(plot_loss_avg)\n",
        "            plot_loss_total = 0\n",
        "    \n",
        "    return plot_losses"
      ],
      "execution_count": 0,
      "outputs": []
    },
    {
      "cell_type": "code",
      "metadata": {
        "id": "VdZtg6h2Todv",
        "colab_type": "code",
        "colab": {}
      },
      "source": [
        "def evaluateInstance(source,encoder,decoder,start_token, end_token, source_vocab, target_vocab,max_length=25):\n",
        "    with torch.no_grad():\n",
        "        input_tensor = wordToTensor(source,source_vocab)\n",
        "        input_length = input_tensor.size()[0]\n",
        "        encoder_hidden = encoder.initHidden()\n",
        "\n",
        "        encoder_outputs = torch.zeros(max_length, encoder.hidden_size)\n",
        "\n",
        "        for ei in range(input_length):\n",
        "            encoder_output, encoder_hidden = encoder(input_tensor[ei],\n",
        "                                                     encoder_hidden)\n",
        "        print(encoder_hidden)\n",
        "        decoder_input = torch.tensor([[start_token]])  # SOS\n",
        "\n",
        "        decoder_hidden = encoder_hidden\n",
        "\n",
        "        decoded_words = []\n",
        "\n",
        "        for di in range(max_length):\n",
        "            decoder_output, decoder_hidden = decoder(\n",
        "                decoder_input, decoder_hidden)\n",
        "            print(decoder_output.size(),decoder_hidden.size())\n",
        "            topv, topi = decoder_output.data.topk(1)\n",
        "            if topi.item() == end_token:\n",
        "                decoded_words.append('<EOS>')\n",
        "                break\n",
        "            else:\n",
        "                decoded_words.append(target_vocab[topi.item()])\n",
        "                \n",
        "            decoder_input = topi.squeeze().detach()\n",
        "            \n",
        "        return decoded_words"
      ],
      "execution_count": 0,
      "outputs": []
    },
    {
      "cell_type": "markdown",
      "metadata": {
        "id": "h40VtVwGTod2",
        "colab_type": "text"
      },
      "source": [
        "## Model"
      ]
    },
    {
      "cell_type": "markdown",
      "metadata": {
        "id": "VLbR2BteTod2",
        "colab_type": "text"
      },
      "source": [
        "### Encode-Decoder with GRU"
      ]
    },
    {
      "cell_type": "code",
      "metadata": {
        "id": "6iYBs5I2Tod3",
        "colab_type": "code",
        "colab": {}
      },
      "source": [
        "class Encoder(nn.Module):\n",
        "    def __init__(self,input_size,hidden_size):\n",
        "        super(Encoder,self).__init__()\n",
        "        self.hidden_size = hidden_size\n",
        "        self.embedding = nn.Embedding(input_size,hidden_size)\n",
        "        self.gru = nn.GRU(hidden_size,hidden_size)\n",
        "        \n",
        "    def forward(self,input,hidden):\n",
        "        embedded = self.embedding(input).view(1,1,-1)\n",
        "        output = embedded\n",
        "        output,hidden = self.gru(output,hidden)\n",
        "        return output,hidden\n",
        "    \n",
        "    def initHidden(self):\n",
        "        return torch.zeros(1,1,self.hidden_size)"
      ],
      "execution_count": 0,
      "outputs": []
    },
    {
      "cell_type": "code",
      "metadata": {
        "id": "NYTgX8MaTod6",
        "colab_type": "code",
        "colab": {}
      },
      "source": [
        "class Decoder(nn.Module):\n",
        "    def __init__(self,output_size,hidden_size):\n",
        "        super(Decoder,self).__init__()\n",
        "        self.hidden_size = hidden_size\n",
        "        self.embedding = nn.Embedding(output_size,hidden_size)\n",
        "        self.gru = nn.GRU(hidden_size,hidden_size)\n",
        "        self.out = nn.Linear(hidden_size,output_size)\n",
        "        self.softmax = nn.LogSoftmax(dim=1)\n",
        "        \n",
        "    def forward(self,input,hidden):\n",
        "        embedded = self.embedding(input).view(1,1,-1)\n",
        "        output = F.relu(embedded)\n",
        "        output,hidden = self.gru(output,hidden)\n",
        "        output = self.softmax(self.out(output[0]))\n",
        "        return output,hidden\n",
        "    \n",
        "    def initHidden(self):\n",
        "        return torch.zeros(1,1,self.hidden_size)"
      ],
      "execution_count": 0,
      "outputs": []
    },
    {
      "cell_type": "markdown",
      "metadata": {
        "id": "xO5pmmJdToeB",
        "colab_type": "text"
      },
      "source": [
        "### Experiment-1\n",
        "### Details: \n",
        "Model: Encoder Decoder\n",
        "Architecture: Single layer GRU 128 dimension"
      ]
    },
    {
      "cell_type": "code",
      "metadata": {
        "id": "v2l842cHToeC",
        "colab_type": "code",
        "colab": {}
      },
      "source": [
        "## Parameters:\n",
        "learning_rate = 5*1e-2\n",
        "n_iters = 5000\n",
        "dropout = 0.5\n",
        "teacher_forcing_ratio = 0.0\n",
        "max_length = 25\n",
        "input_dim = n_english_vocab\n",
        "output_dim = n_bengali_vocab\n",
        "hidden_dim = 256\n",
        "encoder = Encoder(input_dim,hidden_dim)\n",
        "decoder = Decoder(output_dim,hidden_dim)"
      ],
      "execution_count": 0,
      "outputs": []
    },
    {
      "cell_type": "code",
      "metadata": {
        "scrolled": true,
        "id": "FGlOZNsbToeG",
        "colab_type": "code",
        "colab": {
          "base_uri": "https://localhost:8080/",
          "height": 1000
        },
        "outputId": "4f127433-a465-4ed2-ba1b-b1312ea1ca72"
      },
      "source": [
        "## Training English to Bengali Transliteration\n",
        "X_train_tensor = [wordToTensor(word,english_vocab) for word in  X_train]\n",
        "y_train_tensor = [wordToTensor(word,bengali_vocab) for word in  y_train]\n",
        "plot_losses = train(encoder,decoder,n_iters,learning_rate,dropout,X_train_tensor,y_train_tensor,bengali_vocab.index('<SOS>'),bengali_vocab.index('<EOS>'),teacher_forcing_ratio,max_length)\n",
        "showPlot(plot_losses)"
      ],
      "execution_count": 90,
      "outputs": [
        {
          "output_type": "stream",
          "text": [
            "0m 2s (- 2m 0s) (100 2%) 3.3456\n",
            "0m 4s (- 1m 56s) (200 4%) 2.8056\n",
            "0m 7s (- 1m 52s) (300 6%) 2.5564\n",
            "0m 9s (- 1m 48s) (400 8%) 2.5822\n",
            "0m 11s (- 1m 45s) (500 10%) 2.5972\n",
            "0m 14s (- 1m 42s) (600 12%) 2.4016\n",
            "0m 16s (- 1m 40s) (700 14%) 2.6630\n",
            "0m 18s (- 1m 37s) (800 16%) 2.5202\n",
            "0m 21s (- 1m 35s) (900 18%) 2.4507\n",
            "0m 23s (- 1m 33s) (1000 20%) 2.5094\n",
            "0m 25s (- 1m 31s) (1100 22%) 2.5508\n",
            "0m 28s (- 1m 29s) (1200 24%) 2.5441\n",
            "0m 30s (- 1m 28s) (1300 26%) 2.7226\n",
            "0m 33s (- 1m 25s) (1400 28%) 2.5074\n",
            "0m 35s (- 1m 23s) (1500 30%) 2.5940\n",
            "0m 38s (- 1m 21s) (1600 32%) 2.6216\n",
            "0m 40s (- 1m 18s) (1700 34%) 2.4932\n",
            "0m 43s (- 1m 16s) (1800 36%) 2.4954\n",
            "0m 45s (- 1m 14s) (1900 38%) 2.5632\n",
            "0m 47s (- 1m 11s) (2000 40%) 2.4764\n",
            "0m 50s (- 1m 9s) (2100 42%) 2.6209\n",
            "0m 52s (- 1m 7s) (2200 44%) 2.6793\n",
            "0m 55s (- 1m 5s) (2300 46%) 2.5531\n",
            "0m 57s (- 1m 2s) (2400 48%) 2.6416\n",
            "1m 0s (- 1m 0s) (2500 50%) 2.3274\n",
            "1m 2s (- 0m 57s) (2600 52%) 2.7613\n",
            "1m 4s (- 0m 55s) (2700 54%) 2.6443\n",
            "1m 7s (- 0m 52s) (2800 56%) 2.4858\n",
            "1m 9s (- 0m 50s) (2900 57%) 2.4773\n",
            "1m 12s (- 0m 48s) (3000 60%) 2.4309\n",
            "1m 14s (- 0m 45s) (3100 62%) 2.5154\n",
            "1m 16s (- 0m 43s) (3200 64%) 2.4726\n",
            "1m 19s (- 0m 40s) (3300 66%) 2.6573\n",
            "1m 21s (- 0m 38s) (3400 68%) 2.4966\n",
            "1m 24s (- 0m 36s) (3500 70%) 2.4008\n",
            "1m 26s (- 0m 33s) (3600 72%) 2.4823\n",
            "1m 29s (- 0m 31s) (3700 74%) 2.4824\n",
            "1m 31s (- 0m 28s) (3800 76%) 2.5301\n",
            "1m 34s (- 0m 26s) (3900 78%) 2.6368\n",
            "1m 36s (- 0m 24s) (4000 80%) 2.4353\n",
            "1m 39s (- 0m 21s) (4100 82%) 2.5917\n",
            "1m 41s (- 0m 19s) (4200 84%) 2.5270\n",
            "1m 44s (- 0m 16s) (4300 86%) 2.4675\n",
            "1m 46s (- 0m 14s) (4400 88%) 2.5940\n",
            "1m 49s (- 0m 12s) (4500 90%) 2.4060\n",
            "1m 51s (- 0m 9s) (4600 92%) 2.3798\n",
            "1m 53s (- 0m 7s) (4700 94%) 2.5751\n",
            "1m 56s (- 0m 4s) (4800 96%) 2.4504\n",
            "1m 58s (- 0m 2s) (4900 98%) 2.4655\n",
            "2m 1s (- 0m 0s) (5000 100%) 2.3858\n"
          ],
          "name": "stdout"
        },
        {
          "output_type": "display_data",
          "data": {
            "text/plain": [
              "<Figure size 432x288 with 0 Axes>"
            ]
          },
          "metadata": {
            "tags": []
          }
        },
        {
          "output_type": "display_data",
          "data": {
            "image/png": "[encoded data removed]",
            "text/plain": [
              "<Figure size 432x288 with 1 Axes>"
            ]
          },
          "metadata": {
            "tags": [],
            "needs_background": "light"
          }
        }
      ]
    },
    {
      "cell_type": "code",
      "metadata": {
        "id": "VxeNsaxvToeK",
        "colab_type": "code",
        "colab": {}
      },
      "source": [
        "X_validation_tensor = [wordToTensor(word,english_vocab) for word in  X_validation]\n",
        "y_validation_tensor = [wordToTensor(word,bengali_vocab) for word in  y_validation]"
      ],
      "execution_count": 0,
      "outputs": []
    },
    {
      "cell_type": "code",
      "metadata": {
        "id": "69SQ5tydToeN",
        "colab_type": "code",
        "colab": {}
      },
      "source": [
        "id = random.randint(0,len(X_validation_tensor)-1)"
      ],
      "execution_count": 0,
      "outputs": []
    },
    {
      "cell_type": "code",
      "metadata": {
        "id": "4t0PtOHbToeQ",
        "colab_type": "code",
        "colab": {
          "base_uri": "https://localhost:8080/",
          "height": 1000
        },
        "outputId": "40df6528-3f02-4e13-a50e-e4db1df63d2a"
      },
      "source": [
        "print(X_validation[id],y_validation[id],X_validation_tensor[id])\n",
        "evaluateInstance(X_validation_tensor[id],encoder,decoder,bengali_vocab.index('<SOS>'),bengali_vocab.index('<EOS>'),english_vocab,bengali_vocab,max_length=15)"
      ],
      "execution_count": 93,
      "outputs": [
        {
          "output_type": "stream",
          "text": [
            "chikitsok চিকিৎসকে tensor([19,  7,  6, 11,  6,  8, 10,  3, 11,  1])\n",
            "tensor([[[ 9.5543e-01, -9.8056e-01,  9.7532e-01,  9.8952e-01,  6.4416e-03,\n",
            "           9.4046e-01,  8.3029e-01,  9.9480e-01,  9.9315e-01, -9.9002e-01,\n",
            "           9.9070e-01,  8.3823e-02,  1.6326e-01, -9.8619e-01, -9.1974e-01,\n",
            "           3.2560e-01,  9.9290e-01,  2.0033e-01,  7.5288e-01, -9.9996e-01,\n",
            "           5.7070e-01,  9.9999e-01,  1.5640e-01, -9.8285e-01,  2.0449e-01,\n",
            "           8.6831e-01, -9.6761e-01,  6.2713e-01,  9.3962e-01, -4.3409e-02,\n",
            "           9.5224e-01,  9.9969e-01,  9.7818e-01, -8.8131e-01, -2.5771e-01,\n",
            "           3.2423e-01,  3.2024e-02,  9.8713e-01, -9.8393e-01, -9.6227e-01,\n",
            "           9.9890e-01, -6.5057e-02,  5.6840e-01, -5.7411e-02, -3.2733e-02,\n",
            "           9.7248e-01,  9.4396e-01,  9.7114e-01, -5.2040e-01,  7.8040e-01,\n",
            "          -9.9751e-01,  2.1219e-02, -5.3139e-02,  9.8387e-01, -9.5450e-01,\n",
            "           1.9439e-01, -8.7001e-01,  6.0373e-01, -4.8314e-02,  9.7853e-01,\n",
            "          -9.6303e-01,  9.1989e-01, -5.4523e-03, -5.4633e-01, -3.4999e-01,\n",
            "          -1.5624e-01,  7.8701e-02,  8.4375e-01,  9.3063e-01,  9.1120e-01,\n",
            "           5.7777e-01, -2.2736e-01,  9.6750e-01, -9.8826e-01,  8.5092e-01,\n",
            "          -9.2812e-01, -5.8263e-02,  9.9646e-01,  9.9598e-01,  2.5826e-03,\n",
            "           6.4622e-01,  9.9192e-01, -9.9441e-01,  3.2830e-01, -9.6937e-01,\n",
            "           9.9836e-01, -6.4280e-01, -8.5126e-01,  8.1459e-01, -9.9985e-01,\n",
            "           1.2158e-01, -7.0087e-01, -8.2823e-01,  7.6784e-01, -9.9537e-01,\n",
            "          -4.8411e-01, -3.4878e-02, -9.9957e-01,  7.5521e-01,  9.3795e-01,\n",
            "          -8.8004e-01, -7.1248e-01,  9.8601e-01,  9.8681e-01, -9.5874e-01,\n",
            "          -4.9402e-03,  5.4351e-02,  1.0442e-01, -1.5815e-03, -4.4338e-01,\n",
            "           5.8124e-01, -9.9221e-01,  8.6315e-01, -3.9308e-01, -4.9895e-02,\n",
            "           9.7191e-01,  9.9338e-01, -9.9256e-01, -9.9987e-01,  8.0834e-01,\n",
            "          -9.9169e-01,  8.4306e-01,  4.9138e-01,  1.9339e-03,  9.2377e-01,\n",
            "           4.3983e-01, -9.6445e-01, -9.0718e-01, -1.1441e-02,  3.3668e-01,\n",
            "          -9.8817e-01,  9.9946e-01, -9.4435e-01,  9.9230e-01,  2.1029e-01,\n",
            "           9.7598e-01, -3.9282e-01, -9.4018e-01, -9.9610e-01, -8.7152e-01,\n",
            "          -6.5665e-03,  6.3873e-01,  1.8186e-02,  8.4116e-01, -6.6732e-01,\n",
            "          -7.0802e-01, -9.8594e-01, -1.7011e-01, -7.7141e-01, -9.9478e-01,\n",
            "          -9.9171e-01,  8.8591e-01,  2.3886e-01,  9.9192e-01, -5.8533e-02,\n",
            "           4.8167e-01,  9.9367e-01,  5.7774e-01,  1.0080e-03,  9.7701e-01,\n",
            "           8.8110e-01, -9.8037e-01,  9.9067e-01,  9.4270e-01, -1.4126e-01,\n",
            "          -9.8841e-01, -9.6529e-01,  8.4102e-01, -6.3936e-02, -2.0875e-01,\n",
            "           9.7504e-01,  9.7180e-01,  5.0128e-05,  5.6383e-01,  9.9318e-01,\n",
            "           8.0197e-01,  8.0113e-01, -9.9398e-01,  9.8128e-01,  9.9893e-01,\n",
            "          -9.9999e-01, -9.6316e-01,  8.4227e-01, -6.4019e-01, -3.5925e-01,\n",
            "           3.7323e-01, -9.7552e-01,  1.4452e-01, -9.4424e-01,  9.9624e-01,\n",
            "           1.0026e-01,  1.0270e-02,  7.3628e-01,  9.1400e-01,  9.0046e-01,\n",
            "          -9.0533e-01,  9.5396e-01,  9.9919e-01,  7.2435e-01, -9.8654e-01,\n",
            "           9.3663e-01,  6.1520e-01,  5.0999e-01,  9.3539e-01, -8.8798e-01,\n",
            "           2.6007e-01, -9.9322e-01,  2.6221e-01,  7.7364e-01,  9.9579e-01,\n",
            "          -4.8672e-01, -6.7908e-01,  9.6390e-01, -9.7915e-01,  9.4410e-01,\n",
            "           7.0538e-01, -7.6402e-01,  9.6879e-01, -9.9560e-01,  5.7051e-02,\n",
            "          -6.0735e-01, -7.7288e-02, -7.6128e-01, -9.5976e-01,  7.3826e-01,\n",
            "          -9.9975e-01, -5.4359e-01, -9.1584e-01, -9.4946e-01,  7.0890e-01,\n",
            "           9.5230e-01,  8.6732e-01,  9.7050e-01, -9.9345e-01, -7.1629e-01,\n",
            "           8.8550e-01, -9.7396e-01, -9.8795e-01, -5.2169e-01, -9.9038e-01,\n",
            "           3.5981e-01, -6.6155e-04, -1.7543e-02,  3.3320e-01,  5.6125e-02,\n",
            "           1.1361e-02, -3.5938e-01,  9.9404e-01, -9.5927e-01, -3.0735e-01,\n",
            "           1.4196e-01,  8.6878e-01,  4.0634e-02,  2.3821e-01, -9.9814e-01,\n",
            "           8.0013e-02]]])\n",
            "torch.Size([1, 58]) torch.Size([1, 1, 256])\n",
            "torch.Size([1, 58]) torch.Size([1, 1, 256])\n",
            "torch.Size([1, 58]) torch.Size([1, 1, 256])\n",
            "torch.Size([1, 58]) torch.Size([1, 1, 256])\n",
            "torch.Size([1, 58]) torch.Size([1, 1, 256])\n",
            "torch.Size([1, 58]) torch.Size([1, 1, 256])\n",
            "torch.Size([1, 58]) torch.Size([1, 1, 256])\n",
            "torch.Size([1, 58]) torch.Size([1, 1, 256])\n",
            "torch.Size([1, 58]) torch.Size([1, 1, 256])\n",
            "torch.Size([1, 58]) torch.Size([1, 1, 256])\n",
            "torch.Size([1, 58]) torch.Size([1, 1, 256])\n",
            "torch.Size([1, 58]) torch.Size([1, 1, 256])\n",
            "torch.Size([1, 58]) torch.Size([1, 1, 256])\n",
            "torch.Size([1, 58]) torch.Size([1, 1, 256])\n",
            "torch.Size([1, 58]) torch.Size([1, 1, 256])\n"
          ],
          "name": "stdout"
        },
        {
          "output_type": "execute_result",
          "data": {
            "text/plain": [
              "['প', '্', 'ত', 'া', 'র', 'া', 'া', 'া', 'ত', 'া', 'র', 'া', 'ত', 'র', '<EOS>']"
            ]
          },
          "metadata": {
            "tags": []
          },
          "execution_count": 93
        }
      ]
    }
  ]
}